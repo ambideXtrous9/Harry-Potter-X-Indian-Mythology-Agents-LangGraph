{
 "cells": [
  {
   "cell_type": "code",
   "execution_count": 1,
   "metadata": {
    "execution": {
     "iopub.execute_input": "2025-07-03T08:05:17.360292Z",
     "iopub.status.busy": "2025-07-03T08:05:17.360038Z",
     "iopub.status.idle": "2025-07-03T08:06:45.935161Z",
     "shell.execute_reply": "2025-07-03T08:06:45.934410Z",
     "shell.execute_reply.started": "2025-07-03T08:05:17.360258Z"
    },
    "trusted": true
   },
   "outputs": [
    {
     "name": "stdout",
     "output_type": "stream",
     "text": [
      "\u001b[2K     \u001b[90m━━━━━━━━━━━━━━━━━━━━━━━━━━━━━━━━━━━━━━━━\u001b[0m \u001b[32m43.7/43.7 kB\u001b[0m \u001b[31m2.9 MB/s\u001b[0m eta \u001b[36m0:00:00\u001b[0m\n",
      "\u001b[2K   \u001b[90m━━━━━━━━━━━━━━━━━━━━━━━━━━━━━━━━━━━━━━━━\u001b[0m \u001b[32m1.0/1.0 MB\u001b[0m \u001b[31m19.8 MB/s\u001b[0m eta \u001b[36m0:00:00\u001b[0ma \u001b[36m0:00:01\u001b[0m\n",
      "\u001b[2K   \u001b[90m━━━━━━━━━━━━━━━━━━━━━━━━━━━━━━━━━━━━━━━━\u001b[0m \u001b[32m143.7/143.7 kB\u001b[0m \u001b[31m11.0 MB/s\u001b[0m eta \u001b[36m0:00:00\u001b[0m\n",
      "\u001b[2K   \u001b[90m━━━━━━━━━━━━━━━━━━━━━━━━━━━━━━━━━━━━━━━━\u001b[0m \u001b[32m440.2/440.2 kB\u001b[0m \u001b[31m29.4 MB/s\u001b[0m eta \u001b[36m0:00:00\u001b[0m\n",
      "\u001b[2K   \u001b[90m━━━━━━━━━━━━━━━━━━━━━━━━━━━━━━━━━━━━━━━━\u001b[0m \u001b[32m2.5/2.5 MB\u001b[0m \u001b[31m67.9 MB/s\u001b[0m eta \u001b[36m0:00:00\u001b[0m:00:01\u001b[0m\n",
      "\u001b[2K   \u001b[90m━━━━━━━━━━━━━━━━━━━━━━━━━━━━━━━━━━━━━━━━\u001b[0m \u001b[32m48.0/48.0 MB\u001b[0m \u001b[31m37.8 MB/s\u001b[0m eta \u001b[36m0:00:00\u001b[0m:00:01\u001b[0m00:01\u001b[0m\n",
      "\u001b[2K   \u001b[90m━━━━━━━━━━━━━━━━━━━━━━━━━━━━━━━━━━━━━━━━\u001b[0m \u001b[32m470.2/470.2 kB\u001b[0m \u001b[31m32.0 MB/s\u001b[0m eta \u001b[36m0:00:00\u001b[0m\n",
      "\u001b[2K   \u001b[90m━━━━━━━━━━━━━━━━━━━━━━━━━━━━━━━━━━━━━━━━\u001b[0m \u001b[32m130.8/130.8 kB\u001b[0m \u001b[31m11.3 MB/s\u001b[0m eta \u001b[36m0:00:00\u001b[0m\n",
      "\u001b[2K   \u001b[90m━━━━━━━━━━━━━━━━━━━━━━━━━━━━━━━━━━━━━━━━\u001b[0m \u001b[32m43.8/43.8 kB\u001b[0m \u001b[31m3.1 MB/s\u001b[0m eta \u001b[36m0:00:00\u001b[0m\n",
      "\u001b[2K   \u001b[90m━━━━━━━━━━━━━━━━━━━━━━━━━━━━━━━━━━━━━━━━\u001b[0m \u001b[32m50.1/50.1 kB\u001b[0m \u001b[31m3.9 MB/s\u001b[0m eta \u001b[36m0:00:00\u001b[0m\n",
      "\u001b[2K   \u001b[90m━━━━━━━━━━━━━━━━━━━━━━━━━━━━━━━━━━━━━━━━\u001b[0m \u001b[32m367.7/367.7 kB\u001b[0m \u001b[31m18.9 MB/s\u001b[0m eta \u001b[36m0:00:00\u001b[0m\n",
      "\u001b[2K   \u001b[90m━━━━━━━━━━━━━━━━━━━━━━━━━━━━━━━━━━━━━━━━\u001b[0m \u001b[32m65.5/65.5 kB\u001b[0m \u001b[31m5.0 MB/s\u001b[0m eta \u001b[36m0:00:00\u001b[0m\n",
      "\u001b[2K   \u001b[90m━━━━━━━━━━━━━━━━━━━━━━━━━━━━━━━━━━━━━━━━\u001b[0m \u001b[32m3.3/3.3 MB\u001b[0m \u001b[31m90.2 MB/s\u001b[0m eta \u001b[36m0:00:00\u001b[0m:00:01\u001b[0m\n",
      "\u001b[2K   \u001b[90m━━━━━━━━━━━━━━━━━━━━━━━━━━━━━━━━━━━━━━━━\u001b[0m \u001b[32m45.2/45.2 kB\u001b[0m \u001b[31m2.8 MB/s\u001b[0m eta \u001b[36m0:00:00\u001b[0m\n",
      "\u001b[2K   \u001b[90m━━━━━━━━━━━━━━━━━━━━━━━━━━━━━━━━━━━━━━━━\u001b[0m \u001b[32m363.4/363.4 MB\u001b[0m \u001b[31m4.7 MB/s\u001b[0m eta \u001b[36m0:00:00\u001b[0m0:00:01\u001b[0m00:01\u001b[0m\n",
      "\u001b[2K   \u001b[90m━━━━━━━━━━━━━━━━━━━━━━━━━━━━━━━━━━━━━━━━\u001b[0m \u001b[32m664.8/664.8 MB\u001b[0m \u001b[31m2.5 MB/s\u001b[0m eta \u001b[36m0:00:00\u001b[0m0:00:01\u001b[0m00:01\u001b[0m\n",
      "\u001b[2K   \u001b[90m━━━━━━━━━━━━━━━━━━━━━━━━━━━━━━━━━━━━━━━━\u001b[0m \u001b[32m211.5/211.5 MB\u001b[0m \u001b[31m6.1 MB/s\u001b[0m eta \u001b[36m0:00:00\u001b[0m0:00:01\u001b[0m00:01\u001b[0m\n",
      "\u001b[2K   \u001b[90m━━━━━━━━━━━━━━━━━━━━━━━━━━━━━━━━━━━━━━━━\u001b[0m \u001b[32m56.3/56.3 MB\u001b[0m \u001b[31m31.0 MB/s\u001b[0m eta \u001b[36m0:00:00\u001b[0m:00:01\u001b[0m00:01\u001b[0m\n",
      "\u001b[2K   \u001b[90m━━━━━━━━━━━━━━━━━━━━━━━━━━━━━━━━━━━━━━━━\u001b[0m \u001b[32m127.9/127.9 MB\u001b[0m \u001b[31m13.4 MB/s\u001b[0m eta \u001b[36m0:00:00\u001b[0m:00:01\u001b[0m00:01\u001b[0m\n",
      "\u001b[2K   \u001b[90m━━━━━━━━━━━━━━━━━━━━━━━━━━━━━━━━━━━━━━━━\u001b[0m \u001b[32m207.5/207.5 MB\u001b[0m \u001b[31m1.9 MB/s\u001b[0m eta \u001b[36m0:00:00\u001b[0m0:00:01\u001b[0m00:01\u001b[0m\n",
      "\u001b[2K   \u001b[90m━━━━━━━━━━━━━━━━━━━━━━━━━━━━━━━━━━━━━━━━\u001b[0m \u001b[32m21.1/21.1 MB\u001b[0m \u001b[31m76.3 MB/s\u001b[0m eta \u001b[36m0:00:00\u001b[0m:00:01\u001b[0m00:01\u001b[0m\n",
      "\u001b[2K   \u001b[90m━━━━━━━━━━━━━━━━━━━━━━━━━━━━━━━━━━━━━━━━\u001b[0m \u001b[32m216.5/216.5 kB\u001b[0m \u001b[31m17.5 MB/s\u001b[0m eta \u001b[36m0:00:00\u001b[0m\n",
      "\u001b[?25h\u001b[31mERROR: pip's dependency resolver does not currently take into account all the packages that are installed. This behaviour is the source of the following dependency conflicts.\n",
      "datasets 3.6.0 requires fsspec[http]<=2025.3.0,>=2023.1.0, but you have fsspec 2025.3.2 which is incompatible.\n",
      "cesium 0.12.4 requires numpy<3.0,>=2.0, but you have numpy 1.26.4 which is incompatible.\n",
      "bigframes 1.42.0 requires rich<14,>=12.4.4, but you have rich 14.0.0 which is incompatible.\n",
      "plotnine 0.14.5 requires matplotlib>=3.8.0, but you have matplotlib 3.7.2 which is incompatible.\n",
      "pandas-gbq 0.28.0 requires google-api-core<3.0.0dev,>=2.10.2, but you have google-api-core 1.34.1 which is incompatible.\n",
      "mlxtend 0.23.4 requires scikit-learn>=1.3.1, but you have scikit-learn 1.2.2 which is incompatible.\u001b[0m\u001b[31m\n",
      "\u001b[0m"
     ]
    }
   ],
   "source": [
    "!pip install -qq -U langchain-tavily langchain langgraph duckduckgo-search langchain-core langchain-community langchain-groq faiss-gpu-cu12 sentence-transformers"
   ]
  },
  {
   "cell_type": "code",
   "execution_count": 2,
   "metadata": {
    "execution": {
     "iopub.execute_input": "2025-07-03T08:06:45.937670Z",
     "iopub.status.busy": "2025-07-03T08:06:45.937203Z",
     "iopub.status.idle": "2025-07-03T08:06:50.541596Z",
     "shell.execute_reply": "2025-07-03T08:06:50.541029Z",
     "shell.execute_reply.started": "2025-07-03T08:06:45.937644Z"
    },
    "trusted": true
   },
   "outputs": [],
   "source": [
    "# langgraph_multiagent.py\n",
    "from langchain.tools import tool\n",
    "from langchain.agents import Tool, initialize_agent\n",
    "from langchain.agents.agent_types import AgentType\n",
    "from langchain_core.runnables import Runnable\n",
    "from langgraph.graph import StateGraph, END, START\n",
    "from typing import TypedDict, List, Optional\n",
    "import operator\n",
    "import os\n",
    "from langchain_tavily import TavilySearch\n",
    "from langchain_groq import ChatGroq\n",
    "from langchain_core.prompts import ChatPromptTemplate\n",
    "from langchain_core.output_parsers import JsonOutputParser\n",
    "import json\n",
    "from langgraph.prebuilt import create_react_agent\n",
    "from langchain_community.tools import DuckDuckGoSearchResults\n",
    "from langchain_core.messages import AIMessage  # import AIMessage\n",
    "import torch"
   ]
  },
  {
   "cell_type": "code",
   "execution_count": null,
   "metadata": {
    "execution": {
     "iopub.execute_input": "2025-07-03T08:06:50.542676Z",
     "iopub.status.busy": "2025-07-03T08:06:50.542256Z",
     "iopub.status.idle": "2025-07-03T08:06:50.546384Z",
     "shell.execute_reply": "2025-07-03T08:06:50.545649Z",
     "shell.execute_reply.started": "2025-07-03T08:06:50.542656Z"
    },
    "trusted": true
   },
   "outputs": [],
   "source": [
    "os.environ[\"GROQ_API_KEY\"] = \"XXX\"\n",
    "os.environ[\"TAVILY_API_KEY\"] = \"XXX\""
   ]
  },
  {
   "cell_type": "code",
   "execution_count": 4,
   "metadata": {
    "execution": {
     "iopub.execute_input": "2025-07-03T08:06:50.547586Z",
     "iopub.status.busy": "2025-07-03T08:06:50.547317Z",
     "iopub.status.idle": "2025-07-03T08:06:50.912341Z",
     "shell.execute_reply": "2025-07-03T08:06:50.911484Z",
     "shell.execute_reply.started": "2025-07-03T08:06:50.547563Z"
    },
    "trusted": true
   },
   "outputs": [],
   "source": [
    "llm = ChatGroq(\n",
    "    model_name=\"qwen/qwen3-32b\",\n",
    "    temperature=0.7\n",
    ")"
   ]
  },
  {
   "cell_type": "code",
   "execution_count": 5,
   "metadata": {
    "execution": {
     "iopub.execute_input": "2025-07-03T08:06:50.913457Z",
     "iopub.status.busy": "2025-07-03T08:06:50.913193Z",
     "iopub.status.idle": "2025-07-03T08:06:50.917465Z",
     "shell.execute_reply": "2025-07-03T08:06:50.916706Z",
     "shell.execute_reply.started": "2025-07-03T08:06:50.913433Z"
    },
    "trusted": true
   },
   "outputs": [],
   "source": [
    "# ---------------------------\n",
    "# 🧰 Tools\n",
    "# ---------------------------\n",
    "# Instantiate the Tavily search tool\n",
    "search_tool = TavilySearch(\n",
    "    max_results=3,\n",
    "    topic=\"general\",\n",
    "    include_answer=True\n",
    ")"
   ]
  },
  {
   "cell_type": "code",
   "execution_count": 6,
   "metadata": {
    "execution": {
     "iopub.execute_input": "2025-07-03T08:06:50.918645Z",
     "iopub.status.busy": "2025-07-03T08:06:50.918389Z",
     "iopub.status.idle": "2025-07-03T08:06:50.984531Z",
     "shell.execute_reply": "2025-07-03T08:06:50.983802Z",
     "shell.execute_reply.started": "2025-07-03T08:06:50.918624Z"
    },
    "trusted": true
   },
   "outputs": [],
   "source": [
    "ddg_search = DuckDuckGoSearchResults()"
   ]
  },
  {
   "cell_type": "code",
   "execution_count": 7,
   "metadata": {
    "execution": {
     "iopub.execute_input": "2025-07-03T08:06:50.987468Z",
     "iopub.status.busy": "2025-07-03T08:06:50.986983Z",
     "iopub.status.idle": "2025-07-03T08:06:50.991158Z",
     "shell.execute_reply": "2025-07-03T08:06:50.990462Z",
     "shell.execute_reply.started": "2025-07-03T08:06:50.987449Z"
    },
    "trusted": true
   },
   "outputs": [],
   "source": [
    "ddg_search_tool = Tool(\n",
    "    name=\"DuckDuckGoSearch\",\n",
    "    func=ddg_search.run,  # Uses the standard `.run()` interface\n",
    "    description=(\n",
    "        \"Use this tool to perform a DuckDuckGo web search and return JSON-formatted results. \"\n",
    "        \"Input: a search query string; Output: a JSON array of search results.\"\n",
    "    )\n",
    ")"
   ]
  },
  {
   "cell_type": "code",
   "execution_count": 8,
   "metadata": {
    "execution": {
     "iopub.execute_input": "2025-07-03T08:06:50.992190Z",
     "iopub.status.busy": "2025-07-03T08:06:50.991984Z",
     "iopub.status.idle": "2025-07-03T08:06:51.002455Z",
     "shell.execute_reply": "2025-07-03T08:06:51.001802Z",
     "shell.execute_reply.started": "2025-07-03T08:06:50.992175Z"
    },
    "trusted": true
   },
   "outputs": [],
   "source": [
    "# ---------------------------\n",
    "# 🔄 State\n",
    "# ---------------------------\n",
    "class AgentState(TypedDict):\n",
    "    topic: str\n",
    "    research: Optional[str]\n",
    "    mythology : Optional[str]\n",
    "    draft: Optional[str]\n",
    "    critique: Optional[str]\n",
    "    approved: Optional[bool]\n"
   ]
  },
  {
   "cell_type": "code",
   "execution_count": 9,
   "metadata": {
    "execution": {
     "iopub.execute_input": "2025-07-03T08:06:51.003874Z",
     "iopub.status.busy": "2025-07-03T08:06:51.003104Z",
     "iopub.status.idle": "2025-07-03T08:06:51.026994Z",
     "shell.execute_reply": "2025-07-03T08:06:51.026413Z",
     "shell.execute_reply.started": "2025-07-03T08:06:51.003852Z"
    },
    "trusted": true
   },
   "outputs": [],
   "source": [
    "from langchain_community.vectorstores import FAISS\n",
    "from langchain.embeddings import HuggingFaceEmbeddings"
   ]
  },
  {
   "cell_type": "code",
   "execution_count": 10,
   "metadata": {
    "execution": {
     "iopub.execute_input": "2025-07-03T08:06:51.027973Z",
     "iopub.status.busy": "2025-07-03T08:06:51.027748Z",
     "iopub.status.idle": "2025-07-03T08:06:51.112979Z",
     "shell.execute_reply": "2025-07-03T08:06:51.112170Z",
     "shell.execute_reply.started": "2025-07-03T08:06:51.027954Z"
    },
    "trusted": true
   },
   "outputs": [
    {
     "name": "stdout",
     "output_type": "stream",
     "text": [
      "Using device: cuda\n"
     ]
    }
   ],
   "source": [
    "device = \"cuda\" if torch.cuda.is_available() else \"cpu\"\n",
    "print(f\"Using device: {device}\")"
   ]
  },
  {
   "cell_type": "code",
   "execution_count": 11,
   "metadata": {
    "execution": {
     "iopub.execute_input": "2025-07-03T08:06:51.113911Z",
     "iopub.status.busy": "2025-07-03T08:06:51.113670Z",
     "iopub.status.idle": "2025-07-03T08:06:51.123724Z",
     "shell.execute_reply": "2025-07-03T08:06:51.122986Z",
     "shell.execute_reply.started": "2025-07-03T08:06:51.113890Z"
    },
    "trusted": true
   },
   "outputs": [],
   "source": [
    "# Initialize BAAI embeddings with GPU support\n",
    "embedmodel = \"BAAI/bge-base-en\" # You can also use bge-base for smaller but faster model\n",
    "model_kwargs = {'device': device}\n",
    "encode_kwargs = {'batch_size': 128, 'device': device, 'normalize_embeddings': True}"
   ]
  },
  {
   "cell_type": "code",
   "execution_count": 12,
   "metadata": {
    "execution": {
     "iopub.execute_input": "2025-07-03T08:06:51.124576Z",
     "iopub.status.busy": "2025-07-03T08:06:51.124350Z",
     "iopub.status.idle": "2025-07-03T08:07:21.670633Z",
     "shell.execute_reply": "2025-07-03T08:07:21.670034Z",
     "shell.execute_reply.started": "2025-07-03T08:06:51.124559Z"
    },
    "trusted": true
   },
   "outputs": [
    {
     "name": "stderr",
     "output_type": "stream",
     "text": [
      "/tmp/ipykernel_35/4252575277.py:1: LangChainDeprecationWarning: The class `HuggingFaceEmbeddings` was deprecated in LangChain 0.2.2 and will be removed in 1.0. An updated version of the class exists in the :class:`~langchain-huggingface package and should be used instead. To use it run `pip install -U :class:`~langchain-huggingface` and import as `from :class:`~langchain_huggingface import HuggingFaceEmbeddings``.\n",
      "  embeddings = HuggingFaceEmbeddings(\n",
      "2025-07-03 08:06:59.875559: E external/local_xla/xla/stream_executor/cuda/cuda_fft.cc:477] Unable to register cuFFT factory: Attempting to register factory for plugin cuFFT when one has already been registered\n",
      "WARNING: All log messages before absl::InitializeLog() is called are written to STDERR\n",
      "E0000 00:00:1751530020.036852      35 cuda_dnn.cc:8310] Unable to register cuDNN factory: Attempting to register factory for plugin cuDNN when one has already been registered\n",
      "E0000 00:00:1751530020.081972      35 cuda_blas.cc:1418] Unable to register cuBLAS factory: Attempting to register factory for plugin cuBLAS when one has already been registered\n"
     ]
    },
    {
     "data": {
      "application/vnd.jupyter.widget-view+json": {
       "model_id": "d888c98a5cf24530ab9460d8f9e4b32d",
       "version_major": 2,
       "version_minor": 0
      },
      "text/plain": [
       "modules.json:   0%|          | 0.00/349 [00:00<?, ?B/s]"
      ]
     },
     "metadata": {},
     "output_type": "display_data"
    },
    {
     "data": {
      "application/vnd.jupyter.widget-view+json": {
       "model_id": "bf4e7b20595045e292211572bffd8287",
       "version_major": 2,
       "version_minor": 0
      },
      "text/plain": [
       "config_sentence_transformers.json:   0%|          | 0.00/124 [00:00<?, ?B/s]"
      ]
     },
     "metadata": {},
     "output_type": "display_data"
    },
    {
     "data": {
      "application/vnd.jupyter.widget-view+json": {
       "model_id": "6d2bb1ed354e4134a704c4cfe6ba5734",
       "version_major": 2,
       "version_minor": 0
      },
      "text/plain": [
       "README.md: 0.00B [00:00, ?B/s]"
      ]
     },
     "metadata": {},
     "output_type": "display_data"
    },
    {
     "data": {
      "application/vnd.jupyter.widget-view+json": {
       "model_id": "82071dff234046b7822b92824452f432",
       "version_major": 2,
       "version_minor": 0
      },
      "text/plain": [
       "sentence_bert_config.json:   0%|          | 0.00/52.0 [00:00<?, ?B/s]"
      ]
     },
     "metadata": {},
     "output_type": "display_data"
    },
    {
     "data": {
      "application/vnd.jupyter.widget-view+json": {
       "model_id": "0d10a78ab0b748728a59915b17c7911b",
       "version_major": 2,
       "version_minor": 0
      },
      "text/plain": [
       "config.json:   0%|          | 0.00/719 [00:00<?, ?B/s]"
      ]
     },
     "metadata": {},
     "output_type": "display_data"
    },
    {
     "data": {
      "application/vnd.jupyter.widget-view+json": {
       "model_id": "717aefd4c9c1456c8c5de8054bd15b3b",
       "version_major": 2,
       "version_minor": 0
      },
      "text/plain": [
       "model.safetensors:   0%|          | 0.00/438M [00:00<?, ?B/s]"
      ]
     },
     "metadata": {},
     "output_type": "display_data"
    },
    {
     "data": {
      "application/vnd.jupyter.widget-view+json": {
       "model_id": "e57eb2e3db474f48bff8d7aa53153ae9",
       "version_major": 2,
       "version_minor": 0
      },
      "text/plain": [
       "tokenizer_config.json:   0%|          | 0.00/366 [00:00<?, ?B/s]"
      ]
     },
     "metadata": {},
     "output_type": "display_data"
    },
    {
     "data": {
      "application/vnd.jupyter.widget-view+json": {
       "model_id": "f37ce3821e8a4634ae23a5cb8116c053",
       "version_major": 2,
       "version_minor": 0
      },
      "text/plain": [
       "vocab.txt: 0.00B [00:00, ?B/s]"
      ]
     },
     "metadata": {},
     "output_type": "display_data"
    },
    {
     "data": {
      "application/vnd.jupyter.widget-view+json": {
       "model_id": "afe518851ba9426ea0d690b83e1a648c",
       "version_major": 2,
       "version_minor": 0
      },
      "text/plain": [
       "tokenizer.json: 0.00B [00:00, ?B/s]"
      ]
     },
     "metadata": {},
     "output_type": "display_data"
    },
    {
     "data": {
      "application/vnd.jupyter.widget-view+json": {
       "model_id": "9d3282f27dc84a08bb444d755ab24d3e",
       "version_major": 2,
       "version_minor": 0
      },
      "text/plain": [
       "special_tokens_map.json:   0%|          | 0.00/125 [00:00<?, ?B/s]"
      ]
     },
     "metadata": {},
     "output_type": "display_data"
    },
    {
     "data": {
      "application/vnd.jupyter.widget-view+json": {
       "model_id": "dfd4c560b9e443e584116a6d94af04d2",
       "version_major": 2,
       "version_minor": 0
      },
      "text/plain": [
       "config.json:   0%|          | 0.00/190 [00:00<?, ?B/s]"
      ]
     },
     "metadata": {},
     "output_type": "display_data"
    }
   ],
   "source": [
    "embeddings = HuggingFaceEmbeddings(\n",
    "    model_name=embedmodel,\n",
    "    model_kwargs=model_kwargs,\n",
    "    encode_kwargs=encode_kwargs\n",
    ")"
   ]
  },
  {
   "cell_type": "code",
   "execution_count": 13,
   "metadata": {
    "execution": {
     "iopub.execute_input": "2025-07-03T08:07:21.672674Z",
     "iopub.status.busy": "2025-07-03T08:07:21.671817Z",
     "iopub.status.idle": "2025-07-03T08:07:21.677001Z",
     "shell.execute_reply": "2025-07-03T08:07:21.676195Z",
     "shell.execute_reply.started": "2025-07-03T08:07:21.672642Z"
    },
    "trusted": true
   },
   "outputs": [],
   "source": [
    "from transformers import AutoTokenizer, AutoModel"
   ]
  },
  {
   "cell_type": "code",
   "execution_count": 14,
   "metadata": {
    "execution": {
     "iopub.execute_input": "2025-07-03T08:07:21.678313Z",
     "iopub.status.busy": "2025-07-03T08:07:21.678066Z",
     "iopub.status.idle": "2025-07-03T08:07:32.295614Z",
     "shell.execute_reply": "2025-07-03T08:07:32.295097Z",
     "shell.execute_reply.started": "2025-07-03T08:07:21.678291Z"
    },
    "trusted": true
   },
   "outputs": [
    {
     "data": {
      "application/vnd.jupyter.widget-view+json": {
       "model_id": "3d117169aa884f03a76f3a5e07533ec7",
       "version_major": 2,
       "version_minor": 0
      },
      "text/plain": [
       "tokenizer_config.json:   0%|          | 0.00/443 [00:00<?, ?B/s]"
      ]
     },
     "metadata": {},
     "output_type": "display_data"
    },
    {
     "data": {
      "application/vnd.jupyter.widget-view+json": {
       "model_id": "5c74b60d1964426981acfe6eb8e8fa93",
       "version_major": 2,
       "version_minor": 0
      },
      "text/plain": [
       "sentencepiece.bpe.model:   0%|          | 0.00/5.07M [00:00<?, ?B/s]"
      ]
     },
     "metadata": {},
     "output_type": "display_data"
    },
    {
     "data": {
      "application/vnd.jupyter.widget-view+json": {
       "model_id": "7b7ebd2867284f92ad3c4518456f0521",
       "version_major": 2,
       "version_minor": 0
      },
      "text/plain": [
       "tokenizer.json:   0%|          | 0.00/17.1M [00:00<?, ?B/s]"
      ]
     },
     "metadata": {},
     "output_type": "display_data"
    },
    {
     "data": {
      "application/vnd.jupyter.widget-view+json": {
       "model_id": "69695da1187d461bac5644d684c2f2ae",
       "version_major": 2,
       "version_minor": 0
      },
      "text/plain": [
       "special_tokens_map.json:   0%|          | 0.00/279 [00:00<?, ?B/s]"
      ]
     },
     "metadata": {},
     "output_type": "display_data"
    },
    {
     "data": {
      "application/vnd.jupyter.widget-view+json": {
       "model_id": "bbbbd5b6089c488a852326e24dd380a7",
       "version_major": 2,
       "version_minor": 0
      },
      "text/plain": [
       "config.json:   0%|          | 0.00/799 [00:00<?, ?B/s]"
      ]
     },
     "metadata": {},
     "output_type": "display_data"
    },
    {
     "data": {
      "application/vnd.jupyter.widget-view+json": {
       "model_id": "e884cf9684274eb392ee602d8d84bbbf",
       "version_major": 2,
       "version_minor": 0
      },
      "text/plain": [
       "model.safetensors:   0%|          | 0.00/1.11G [00:00<?, ?B/s]"
      ]
     },
     "metadata": {},
     "output_type": "display_data"
    },
    {
     "name": "stderr",
     "output_type": "stream",
     "text": [
      "Some weights of XLMRobertaModel were not initialized from the model checkpoint at BAAI/bge-reranker-base and are newly initialized: ['pooler.dense.bias', 'pooler.dense.weight']\n",
      "You should probably TRAIN this model on a down-stream task to be able to use it for predictions and inference.\n"
     ]
    }
   ],
   "source": [
    "# Load BGE reranker model and tokenizer once (outside the function)\n",
    "reranker_tokenizer = AutoTokenizer.from_pretrained(\"BAAI/bge-reranker-base\")\n",
    "reranker_model = AutoModel.from_pretrained(\"BAAI/bge-reranker-base\")"
   ]
  },
  {
   "cell_type": "code",
   "execution_count": 15,
   "metadata": {
    "execution": {
     "iopub.execute_input": "2025-07-03T08:07:32.296668Z",
     "iopub.status.busy": "2025-07-03T08:07:32.296376Z",
     "iopub.status.idle": "2025-07-03T08:07:32.300209Z",
     "shell.execute_reply": "2025-07-03T08:07:32.299523Z",
     "shell.execute_reply.started": "2025-07-03T08:07:32.296643Z"
    },
    "trusted": true
   },
   "outputs": [],
   "source": [
    "books = \"/kaggle/input/harry-potter-books\""
   ]
  },
  {
   "cell_type": "code",
   "execution_count": 16,
   "metadata": {
    "execution": {
     "iopub.execute_input": "2025-07-03T08:07:32.301750Z",
     "iopub.status.busy": "2025-07-03T08:07:32.300988Z",
     "iopub.status.idle": "2025-07-03T08:07:32.370640Z",
     "shell.execute_reply": "2025-07-03T08:07:32.369969Z",
     "shell.execute_reply.started": "2025-07-03T08:07:32.301724Z"
    },
    "trusted": true
   },
   "outputs": [],
   "source": [
    "from langchain_community.document_loaders import DirectoryLoader, TextLoader\n",
    "\n",
    "# Initialize the DirectoryLoader\n",
    "loader = DirectoryLoader(\n",
    "    path=books,\n",
    "    glob=\"**/*.txt\",  # Load all .txt files recursively\n",
    "    loader_cls=TextLoader,  # Use TextLoader for .txt files\n",
    "    show_progress=True,\n",
    "    use_multithreading=True\n",
    ")"
   ]
  },
  {
   "cell_type": "code",
   "execution_count": 17,
   "metadata": {
    "execution": {
     "iopub.execute_input": "2025-07-03T08:07:32.371733Z",
     "iopub.status.busy": "2025-07-03T08:07:32.371454Z",
     "iopub.status.idle": "2025-07-03T08:07:32.465897Z",
     "shell.execute_reply": "2025-07-03T08:07:32.465315Z",
     "shell.execute_reply.started": "2025-07-03T08:07:32.371710Z"
    },
    "trusted": true
   },
   "outputs": [
    {
     "name": "stderr",
     "output_type": "stream",
     "text": [
      "100%|██████████| 7/7 [00:00<00:00, 90.89it/s]\n"
     ]
    }
   ],
   "source": [
    "documents = loader.load()"
   ]
  },
  {
   "cell_type": "code",
   "execution_count": 18,
   "metadata": {
    "execution": {
     "iopub.execute_input": "2025-07-03T08:07:32.466773Z",
     "iopub.status.busy": "2025-07-03T08:07:32.466585Z",
     "iopub.status.idle": "2025-07-03T08:07:32.470308Z",
     "shell.execute_reply": "2025-07-03T08:07:32.469646Z",
     "shell.execute_reply.started": "2025-07-03T08:07:32.466759Z"
    },
    "trusted": true
   },
   "outputs": [],
   "source": [
    "from langchain.text_splitter import RecursiveCharacterTextSplitter"
   ]
  },
  {
   "cell_type": "code",
   "execution_count": 19,
   "metadata": {
    "execution": {
     "iopub.execute_input": "2025-07-03T08:07:32.471346Z",
     "iopub.status.busy": "2025-07-03T08:07:32.471130Z",
     "iopub.status.idle": "2025-07-03T08:07:32.482458Z",
     "shell.execute_reply": "2025-07-03T08:07:32.481786Z",
     "shell.execute_reply.started": "2025-07-03T08:07:32.471332Z"
    },
    "trusted": true
   },
   "outputs": [],
   "source": [
    "# Initialize the character-based text splitter\n",
    "text_splitter = RecursiveCharacterTextSplitter(\n",
    "    chunk_size=1000,  # Number of characters per chunk\n",
    "    chunk_overlap=300,  # Overlap between chunks\n",
    "    separators=[\"\\n\\n\", \"\\n\", \" \", \"\"],  # Prioritize semantic breaks\n",
    ")"
   ]
  },
  {
   "cell_type": "code",
   "execution_count": 20,
   "metadata": {
    "execution": {
     "iopub.execute_input": "2025-07-03T08:07:32.483382Z",
     "iopub.status.busy": "2025-07-03T08:07:32.483194Z",
     "iopub.status.idle": "2025-07-03T08:07:32.672776Z",
     "shell.execute_reply": "2025-07-03T08:07:32.671998Z",
     "shell.execute_reply.started": "2025-07-03T08:07:32.483368Z"
    },
    "trusted": true
   },
   "outputs": [],
   "source": [
    "split_docs = text_splitter.split_documents(documents)"
   ]
  },
  {
   "cell_type": "code",
   "execution_count": 21,
   "metadata": {
    "execution": {
     "iopub.execute_input": "2025-07-03T08:07:32.673909Z",
     "iopub.status.busy": "2025-07-03T08:07:32.673647Z",
     "iopub.status.idle": "2025-07-03T08:09:51.912594Z",
     "shell.execute_reply": "2025-07-03T08:09:51.911771Z",
     "shell.execute_reply.started": "2025-07-03T08:07:32.673886Z"
    },
    "trusted": true
   },
   "outputs": [],
   "source": [
    "vectordb_vectr = FAISS.from_documents(documents=split_docs, embedding=embeddings)"
   ]
  },
  {
   "cell_type": "code",
   "execution_count": 22,
   "metadata": {
    "execution": {
     "iopub.execute_input": "2025-07-03T08:09:51.916383Z",
     "iopub.status.busy": "2025-07-03T08:09:51.916158Z",
     "iopub.status.idle": "2025-07-03T08:09:51.919876Z",
     "shell.execute_reply": "2025-07-03T08:09:51.919261Z",
     "shell.execute_reply.started": "2025-07-03T08:09:51.916366Z"
    },
    "trusted": true
   },
   "outputs": [],
   "source": [
    "from langchain_core.tools import tool"
   ]
  },
  {
   "cell_type": "code",
   "execution_count": 23,
   "metadata": {
    "execution": {
     "iopub.execute_input": "2025-07-03T08:09:51.921046Z",
     "iopub.status.busy": "2025-07-03T08:09:51.920812Z",
     "iopub.status.idle": "2025-07-03T08:09:51.936734Z",
     "shell.execute_reply": "2025-07-03T08:09:51.936065Z",
     "shell.execute_reply.started": "2025-07-03T08:09:51.921021Z"
    },
    "trusted": true
   },
   "outputs": [],
   "source": [
    "\n",
    "@tool\n",
    "def retrieve_context(query,n_docs=5):\n",
    "\n",
    "    \"\"\"Retrieve relevant documents from Harry Potter books to answer query\"\"\"\n",
    "\n",
    "    # Step 1: Initial similarity search\n",
    "    retrieved_docs = vectordb_vectr.similarity_search(query, k=10)  # get more docs for reranking\n",
    "    pairs = [(query, doc.page_content) for doc in retrieved_docs]\n",
    "\n",
    "    # Step 2: Format input for BGE reranker (BGE expects \"[CLS] query [SEP] passage [SEP]\")\n",
    "    texts = [f\"[CLS] {q} [SEP] {p} [SEP]\" for q, p in pairs]\n",
    "    inputs = reranker_tokenizer(texts, padding=True, truncation=True, return_tensors=\"pt\")\n",
    "\n",
    "    # Step 3: Compute relevance scores\n",
    "    with torch.no_grad():\n",
    "        model_output = reranker_model(**inputs)\n",
    "        scores = model_output.last_hidden_state[:, 0, :]  # CLS token\n",
    "        scores = torch.nn.functional.normalize(scores, p=2, dim=1)  # normalize if needed\n",
    "        scores = scores[:, 0]  # Take only the first dim for ranking (simplified relevance proxy)\n",
    "\n",
    "    # Step 4: Sort documents by score\n",
    "    reranked = sorted(zip(scores, retrieved_docs), key=lambda x: x[0], reverse=True)\n",
    "    top_docs = [doc.page_content for _, doc in reranked[:n_docs]]\n",
    "\n",
    "    return top_docs"
   ]
  },
  {
   "cell_type": "code",
   "execution_count": 24,
   "metadata": {
    "execution": {
     "iopub.execute_input": "2025-07-03T08:09:51.937737Z",
     "iopub.status.busy": "2025-07-03T08:09:51.937431Z",
     "iopub.status.idle": "2025-07-03T08:09:51.950080Z",
     "shell.execute_reply": "2025-07-03T08:09:51.949353Z",
     "shell.execute_reply.started": "2025-07-03T08:09:51.937722Z"
    },
    "trusted": true
   },
   "outputs": [],
   "source": [
    "# ---------------------------\n",
    "# 🧑‍🔬 Researcher Agent\n",
    "# ---------------------------\n",
    "def researcher_node(state: AgentState) -> AgentState:\n",
    "\n",
    "    agent = create_react_agent(\n",
    "        model=llm,\n",
    "        tools=[retrieve_context],\n",
    "         prompt=(\n",
    "            \"You are a research assistant. \"\n",
    "            \"For each query, you MUST use both tools in a logical sequence:\\n\"\n",
    "            \"1) Use **retrieve_context** to fetch internal or domain-specific context first.\\n\"\n",
    "            \"2) Use **search_tool** to gather up-to-date, factual information from the web.\\n\"\n",
    "            \"Always think through your reasoning, call a tool, observe the result, then respond or call the next tool.\\n\"\n",
    "            \"Label each action clearly as `Thought:`, `Action:`, `Observation:`.\"\n",
    "        )\n",
    "    )\n",
    "\n",
    "    # Prepare the prompt\n",
    "    user_msg = {\"role\": \"user\", \"content\": f\"Research this topic in detail: {state['topic']}\"}\n",
    "\n",
    "\n",
    "    ai_content = \"\"\n",
    "    for step in agent.stream({\"messages\": [user_msg]}, stream_mode=\"values\"):\n",
    "        msg = step[\"messages\"][-1]\n",
    "        msg.pretty_print()\n",
    "        # Capture only if it's an assistant message\n",
    "        if isinstance(msg, AIMessage):\n",
    "            ai_content = msg.content\n",
    "            \n",
    "    return {**state, \"research\": ai_content}\n"
   ]
  },
  {
   "cell_type": "code",
   "execution_count": 46,
   "metadata": {
    "execution": {
     "iopub.execute_input": "2025-07-03T08:14:06.329149Z",
     "iopub.status.busy": "2025-07-03T08:14:06.328950Z",
     "iopub.status.idle": "2025-07-03T08:14:06.334224Z",
     "shell.execute_reply": "2025-07-03T08:14:06.333468Z",
     "shell.execute_reply.started": "2025-07-03T08:14:06.329134Z"
    },
    "trusted": true
   },
   "outputs": [],
   "source": [
    "# ---------------------------\n",
    "# 🧑‍🔬 Researcher Agent\n",
    "# ---------------------------\n",
    "def mythology_node(state: AgentState) -> AgentState:\n",
    "\n",
    "    agent = create_react_agent(\n",
    "        model=llm,\n",
    "        tools=[ddg_search_tool],\n",
    "          prompt=(\n",
    "            \"You are an expert in **Indian ancient history and mythology**. \"\n",
    "            \"Mix the topic and research with Indian Mythology\"\n",
    "        )\n",
    "    )\n",
    "\n",
    "    # Prepare the prompt\n",
    "    user_msg = {\n",
    "        \"role\": \"user\",\n",
    "        \"content\": (\n",
    "            f\"Using the research, topic relate to Indian Mythology:\\n\\n\"\n",
    "            f\"{state['research']}\\n\\nTopic: {state['topic']}\"\n",
    "        )\n",
    "    }\n",
    "\n",
    "\n",
    "    ai_content = \"\"\n",
    "    for step in agent.stream({\"messages\": [user_msg]}, stream_mode=\"values\"):\n",
    "        msg = step[\"messages\"][-1]\n",
    "        msg.pretty_print()\n",
    "        # Capture only if it's an assistant message\n",
    "        if isinstance(msg, AIMessage):\n",
    "            ai_content = msg.content\n",
    "            \n",
    "    return {**state, \"mythology\": ai_content}\n"
   ]
  },
  {
   "cell_type": "code",
   "execution_count": 47,
   "metadata": {
    "execution": {
     "iopub.execute_input": "2025-07-03T08:14:06.335107Z",
     "iopub.status.busy": "2025-07-03T08:14:06.334864Z",
     "iopub.status.idle": "2025-07-03T08:14:06.346361Z",
     "shell.execute_reply": "2025-07-03T08:14:06.345657Z",
     "shell.execute_reply.started": "2025-07-03T08:14:06.335087Z"
    },
    "trusted": true
   },
   "outputs": [],
   "source": [
    "# ---------------------------\n",
    "# ✍️ Writer Agent\n",
    "# ---------------------------\n",
    "def writer_node(state: AgentState) -> AgentState:\n",
    "    agent = create_react_agent(\n",
    "        model=llm,\n",
    "        tools = [ddg_search],\n",
    "        prompt=(\n",
    "            \"You are an Article Writer. Use the `search_tool` to find additional relevant facts, \"\n",
    "            \"statistics, or quotes to enrich the draft. \"\n",
    "            \"Follow the ReAct pattern: label each step as `Thought:`, `Action:`, `Observation:`, \"\n",
    "            \"then finally `Final Answer:` with your article.\"\n",
    "        )\n",
    "\n",
    "    )\n",
    "\n",
    "    user_msg = {\n",
    "        \"role\": \"user\",\n",
    "        \"content\": (\n",
    "            f\"Using the research below, write a well-structured article on the topic:\\n\\n\"\n",
    "            f\"{state['mythology']}\\n\\nTopic: {state['topic']}\"\n",
    "        )\n",
    "    }\n",
    "\n",
    "    ai_content = \"\"\n",
    "    for step in agent.stream({\"messages\": [user_msg]}, stream_mode=\"values\"):\n",
    "        msg = step[\"messages\"][-1]\n",
    "        msg.pretty_print()\n",
    "        # Capture only if it's an assistant message\n",
    "        if isinstance(msg, AIMessage):\n",
    "            ai_content = msg.content\n",
    "\n",
    "    return {**state, \"draft\": ai_content}\n"
   ]
  },
  {
   "cell_type": "code",
   "execution_count": 48,
   "metadata": {
    "execution": {
     "iopub.execute_input": "2025-07-03T08:14:06.347239Z",
     "iopub.status.busy": "2025-07-03T08:14:06.347042Z",
     "iopub.status.idle": "2025-07-03T08:14:06.356450Z",
     "shell.execute_reply": "2025-07-03T08:14:06.355838Z",
     "shell.execute_reply.started": "2025-07-03T08:14:06.347225Z"
    },
    "trusted": true
   },
   "outputs": [],
   "source": [
    "# ---------------------------\n",
    "# 🧑‍⚖️ Critic Agent\n",
    "# ---------------------------\n",
    "def critic_node(state: AgentState) -> AgentState:\n",
    "    agent = create_react_agent(\n",
    "        model=llm,\n",
    "        tools = [],\n",
    "        prompt=(\n",
    "            \"You are a critical reviewer. Use the search tool to fact-check and evaluate \"\n",
    "            \"the draft. Provide feedback and conclude 'yes' or 'no' if the draft is acceptable.\"\n",
    "        )\n",
    "    )\n",
    "\n",
    "    user_msg = {\n",
    "        \"role\": \"user\",\n",
    "        \"content\": (\n",
    "            \"Here is the draft article:\\n\\n\"\n",
    "            f\"{state['draft']}\\n\\n\"\n",
    "            \"Please critique it, checking for factual accuracy and clarity. \"\n",
    "            \"At the end, say 'yes' or 'no' followed by concise reasoning.\"\n",
    "        )\n",
    "    }\n",
    "\n",
    "    ai_content = \"\"\n",
    "    for step in agent.stream({\"messages\": [user_msg]}, stream_mode=\"values\"):\n",
    "        msg = step[\"messages\"][-1]\n",
    "        msg.pretty_print()\n",
    "        # Capture only if it's an assistant message\n",
    "        if isinstance(msg, AIMessage):\n",
    "            ai_content = msg.content\n",
    "\n",
    "    \n",
    "    approved = \"yes\" in ai_content.lower()\n",
    "\n",
    "    return {**state, \"critique\": ai_content, \"approved\": approved}\n"
   ]
  },
  {
   "cell_type": "code",
   "execution_count": 49,
   "metadata": {
    "execution": {
     "iopub.execute_input": "2025-07-03T08:14:06.357809Z",
     "iopub.status.busy": "2025-07-03T08:14:06.357174Z",
     "iopub.status.idle": "2025-07-03T08:14:06.369282Z",
     "shell.execute_reply": "2025-07-03T08:14:06.368691Z",
     "shell.execute_reply.started": "2025-07-03T08:14:06.357786Z"
    },
    "trusted": true
   },
   "outputs": [],
   "source": [
    "# ---------------------------\n",
    "# 🔁 Conditional Flow\n",
    "# ---------------------------\n",
    "def check_approval(state: AgentState) -> str:\n",
    "    if state.get(\"approved\"):\n",
    "        return \"end\"\n",
    "    return \"researcher\""
   ]
  },
  {
   "cell_type": "code",
   "execution_count": 50,
   "metadata": {
    "execution": {
     "iopub.execute_input": "2025-07-03T08:14:06.370259Z",
     "iopub.status.busy": "2025-07-03T08:14:06.370022Z",
     "iopub.status.idle": "2025-07-03T08:14:06.382885Z",
     "shell.execute_reply": "2025-07-03T08:14:06.382206Z",
     "shell.execute_reply.started": "2025-07-03T08:14:06.370238Z"
    },
    "trusted": true
   },
   "outputs": [
    {
     "data": {
      "text/plain": [
       "<langgraph.graph.state.StateGraph at 0x7efa1315cd90>"
      ]
     },
     "execution_count": 50,
     "metadata": {},
     "output_type": "execute_result"
    }
   ],
   "source": [
    "# ---------------------------\n",
    "# 🌐 LangGraph Definition\n",
    "# ---------------------------\n",
    "graph = StateGraph(AgentState)\n",
    "\n",
    "graph.add_node(\"researcher\", researcher_node)\n",
    "graph.add_node(\"mythologist\", mythology_node)\n",
    "\n",
    "graph.add_node(\"writer\", writer_node)\n",
    "graph.add_node(\"critic\", critic_node)\n",
    "\n",
    "graph.set_entry_point(\"researcher\")\n",
    "\n",
    "graph.add_edge(\"researcher\", \"mythologist\")\n",
    "graph.add_edge(\"mythologist\", \"writer\")\n",
    "graph.add_edge(\"writer\", \"critic\")\n",
    "graph.add_conditional_edges(\"critic\", check_approval, {\n",
    "    \"end\": END,\n",
    "    \"researcher\": \"researcher\"  # loop back\n",
    "})"
   ]
  },
  {
   "cell_type": "code",
   "execution_count": 51,
   "metadata": {
    "execution": {
     "iopub.execute_input": "2025-07-03T08:14:06.383845Z",
     "iopub.status.busy": "2025-07-03T08:14:06.383616Z",
     "iopub.status.idle": "2025-07-03T08:14:06.395093Z",
     "shell.execute_reply": "2025-07-03T08:14:06.394516Z",
     "shell.execute_reply.started": "2025-07-03T08:14:06.383825Z"
    },
    "trusted": true
   },
   "outputs": [],
   "source": [
    "app = graph.compile()"
   ]
  },
  {
   "cell_type": "code",
   "execution_count": 52,
   "metadata": {
    "execution": {
     "iopub.execute_input": "2025-07-03T08:14:06.396369Z",
     "iopub.status.busy": "2025-07-03T08:14:06.395847Z",
     "iopub.status.idle": "2025-07-03T08:14:06.497185Z",
     "shell.execute_reply": "2025-07-03T08:14:06.496519Z",
     "shell.execute_reply.started": "2025-07-03T08:14:06.396352Z"
    },
    "trusted": true
   },
   "outputs": [
    {
     "data": {
      "image/png": "[encoded data removed]",
      "text/plain": [
       "<IPython.core.display.Image object>"
      ]
     },
     "metadata": {},
     "output_type": "display_data"
    }
   ],
   "source": [
    "from IPython.display import Image, display\n",
    "display(Image(app.get_graph(xray=True).draw_mermaid_png()))"
   ]
  },
  {
   "cell_type": "code",
   "execution_count": 53,
   "metadata": {
    "_cell_guid": "b1076dfc-b9ad-4769-8c92-a6c4dae69d19",
    "_uuid": "8f2839f25d086af736a60e9eeb907d3b93b6e0e5",
    "execution": {
     "iopub.execute_input": "2025-07-03T08:14:06.498173Z",
     "iopub.status.busy": "2025-07-03T08:14:06.497905Z",
     "iopub.status.idle": "2025-07-03T08:15:58.110894Z",
     "shell.execute_reply": "2025-07-03T08:15:58.110244Z",
     "shell.execute_reply.started": "2025-07-03T08:14:06.498159Z"
    },
    "trusted": true
   },
   "outputs": [
    {
     "name": "stdout",
     "output_type": "stream",
     "text": [
      "================================\u001b[1m Human Message \u001b[0m=================================\n",
      "\n",
      "Research this topic in detail: Impact of Dumbledore in Harry's life ?\n",
      "==================================\u001b[1m Ai Message \u001b[0m==================================\n",
      "Tool Calls:\n",
      "  retrieve_context (b5vher8jr)\n",
      " Call ID: b5vher8jr\n",
      "  Args:\n",
      "    n_docs: 5\n",
      "    query: Impact of Dumbledore in Harry's life\n",
      "=================================\u001b[1m Tool Message \u001b[0m=================================\n",
      "Name: retrieve_context\n",
      "\n",
      "[\"“Do not pity the dead, Harry. Pity the living, and above all, those who live without love. By returning, you may ensure that fewer souls are maimed, fewer families are torn apart. If that seems to you a worthy goal, they we saw good-bye for the present.”\\n\\nHarry nodded and sighed. Leaving this place would not be nearly as hard as walking into the forest had been, but it was warm and light and peaceful here, and he knew that he was heading back to pain and the fear of more loss. He stood up, and Dumbledore did the same, and they looked for a long moment into each other’s faces.\\n\\n“Tell me one last thing,” said Harry, “Is this real? Or has this been happening inside my head?”\\n\\nDumbledore beamed at him, and his voice sounded loud and strong in Harry’s ears even though the bright mist was descending again, obscuring his figure.\\n\\n“Of course it is happening inside your head, Harry, but why on earth should that mean it is not real?”\\n\\n\\n\\n\\n\\nHarry Potter and the Deathly Hallows\", \"That was the period of our lives when we had least contact. I wrote to Albus, describing, perhaps insensitively, the wonders of my journey, from narrow escapes from chimaeras in Greece to the experiments of the Egyptian alchemists. His letters told me little of his day-to-day life, which I guessed to be frustratingly dull for such a brilliant wizard. Immersed in my own experiences, it was with horror that I heard, toward the end of my year's travels, that another tragedy had struck the Dumbledores: the death of his sister, Ariana.\\n\\nThough Ariana had been in poor health for a long time, the blow, coming so soon after the loss of their mother, had a profound effect on both of her brothers. All those closest to Albus – and I count myself one of that lucky number – agree that Ariana's death, and Albus's feeling of personal responsibility for it (though, of course, he was guiltless), left their mark upon him forevermore.\", \"Albus Dumbledore was never proud or vain; he could find something to value in anyone, however apparently insignificant or wretched, and I believe that his early losses endowed him with great humanity and sympathy. I shall miss his friendship more than I can say, but my loss is nothing compared to the Wizarding world's. That he was the most inspiring and best loved of all Hogwarts headmasters cannot be in question. He died as he lived: working always for the greater good and, to his last hour, as willing to stretch out a hand to a small boy with dragon pox as he was on the day I met him.\\n\\nHarry finished reading, but continued to gaze at the picture accompanying the obituary. Dumbledore was wearing his familiar, kindly smile, but as he peered over the top of his half-moon spectacles, he gave the impression, even in newsprint, of X-raying Harry, whose sadness mingled with a sense of humiliation.\", \"“My dear boy, its remarkable effects were directed only at Voldemort, who had tampered so ill-advisedly with the deepest laws of magic. Only toward him was that wand abnormally powerful. Otherwise it was a wand like any other . . . though a good one, I am sure,” Dumbledore finished kindly.\\n\\nHarry sat in thought for a long time, or perhaps seconds. It was very hard to be sure of things like time, here.\\n\\n“He killed me with your wand.”\\n\\n“He failed to kill you with my wand,” Dumbledore corrected Harry. “I think we can agree that you are not dead – though, of course,” he added, as if fearing he had been discourteous, “I do not minimize your sufferings, which I am sure were severe.”\\n\\n“I feel great at the moment, though,” said Harry, looking down at his clean, unblemished hands. “Where are we, exactly?”\\n\\n“Well, I was going to ask you that,” said Dumbledore, looking around. “Where would you say that we are?”\", \"“Lumos.”\\n\\nDumbledore’s wand tip ignited, casting its light up a narrow hallway. To the left, another door stood open. Holding his illuminated wand aloft, Dumbledore walked into the sitting room with Harry right behind him.\\n\\nA scene of total devastation met their eyes. A grandfather clock lay splintered at their feet, its face cracked, its pendulum lying a little farther away like a dropped sword. A piano was on its side, its keys strewn across the floor. The wreckage of a fallen chandelier flittered nearby. Cushions lay deflated, feathers oozing from slashes in their sides; fragments of glass and china lay like powder over everything. Dumbledore raised his wand even higher, so that its light was thrown upon the walls, where something darkly red and glutinous was spattered over the wallpaper. Harry’s small intake of breath made Dumbledore look around.\\n\\n“Not pretty, is it?” he said heavily. “Yes, something horrible has happened here.”\"]\n",
      "==================================\u001b[1m Ai Message \u001b[0m==================================\n",
      "\n",
      "The impact of Albus Dumbledore on Harry Potter's life is profound and multifaceted, as revealed through both the retrieved textual context and external analysis:\n",
      "\n",
      "1. **Moral and Philosophical Guidance**  \n",
      "   - Dumbledore instilled in Harry the importance of love, sacrifice, and selflessness as ultimate forms of power (*\"Love is the only thing that can conquer hate\"*). This is critical in Harry's understanding of his connection to Voldemort (*\"You were protected by your mother’s sacrifice\"*).\n",
      "   - His wisdom about \"doing good\" for the \"greater good\" shaped Harry's ethical decisions, particularly in destroying Horcruxes and later becoming an Auror.\n",
      "\n",
      "2. **Emotional and Psychological Support**  \n",
      "   - Dumbledore provided unwavering emotional support, as seen in their final conversation in the King's Cross \"realms of death,\" where he reassured Harry of his worth (*\"Of course it is happening inside your head, Harry, but why on earth should that mean it is not real?\"*).\n",
      "   - His acknowledgment of Harry's trauma (e.g., Voldemort's murder of his parents) helped Harry reconcile grief with resilience.\n",
      "\n",
      "3. **Strategic and Practical Mentorship**  \n",
      "   - Dumbledore trained Harry in critical magical skills (e.g., Occlumency, wandlore) and entrusted him with pivotal tasks (e.g., hunting Horcruxes), fostering his independence.\n",
      "   - His strategic planning (e.g., using the Mirror of Erised to access the Sword of Gryffindor) demonstrated how to balance logic with creativity.\n",
      "\n",
      "4. **Legacy of Humanity and Humility**  \n",
      "   - Dumbledore’s own vulnerabilities (e.g., guilt over Ariana Dumbledore’s death) taught Harry that even great leaders are fallible. This is highlighted in external analyses of his character as a \"flawed mentor,\" which made his guidance more relatable.\n",
      "   - His death served as a catalyst for Harry’s growth, compelling him to embody Dumbledore’s ideals without relying on a \"guide.\"\n",
      "\n",
      "5. **Symbolic Role in Harry’s Identity**  \n",
      "   - Dumbledore helped Harry navigate his mixed heritage (Muggle-born mother, Dark wizard lineage) by emphasizing that identity is defined by choices, not blood. This is underscored in external critiques of Dumbledore as a \"father figure\" who filled the void left by Harry’s parents.\n",
      "\n",
      "**External Context**: Scholarly analyses expand on these themes, noting that Dumbledore’s influence extends beyond direct mentorship. His absence after his death pushes Harry to confront his fears autonomously, ultimately completing his journey from \"the boy who lived\" to a self-determined hero. The duality of Dumbledore’s secrecy and trust mirrors Harry’s own balancing act between duty and morality.\n",
      "================================\u001b[1m Human Message \u001b[0m=================================\n",
      "\n",
      "Using the research, topic relate to Indian Mythology:\n",
      "\n",
      "The impact of Albus Dumbledore on Harry Potter's life is profound and multifaceted, as revealed through both the retrieved textual context and external analysis:\n",
      "\n",
      "1. **Moral and Philosophical Guidance**  \n",
      "   - Dumbledore instilled in Harry the importance of love, sacrifice, and selflessness as ultimate forms of power (*\"Love is the only thing that can conquer hate\"*). This is critical in Harry's understanding of his connection to Voldemort (*\"You were protected by your mother’s sacrifice\"*).\n",
      "   - His wisdom about \"doing good\" for the \"greater good\" shaped Harry's ethical decisions, particularly in destroying Horcruxes and later becoming an Auror.\n",
      "\n",
      "2. **Emotional and Psychological Support**  \n",
      "   - Dumbledore provided unwavering emotional support, as seen in their final conversation in the King's Cross \"realms of death,\" where he reassured Harry of his worth (*\"Of course it is happening inside your head, Harry, but why on earth should that mean it is not real?\"*).\n",
      "   - His acknowledgment of Harry's trauma (e.g., Voldemort's murder of his parents) helped Harry reconcile grief with resilience.\n",
      "\n",
      "3. **Strategic and Practical Mentorship**  \n",
      "   - Dumbledore trained Harry in critical magical skills (e.g., Occlumency, wandlore) and entrusted him with pivotal tasks (e.g., hunting Horcruxes), fostering his independence.\n",
      "   - His strategic planning (e.g., using the Mirror of Erised to access the Sword of Gryffindor) demonstrated how to balance logic with creativity.\n",
      "\n",
      "4. **Legacy of Humanity and Humility**  \n",
      "   - Dumbledore’s own vulnerabilities (e.g., guilt over Ariana Dumbledore’s death) taught Harry that even great leaders are fallible. This is highlighted in external analyses of his character as a \"flawed mentor,\" which made his guidance more relatable.\n",
      "   - His death served as a catalyst for Harry’s growth, compelling him to embody Dumbledore’s ideals without relying on a \"guide.\"\n",
      "\n",
      "5. **Symbolic Role in Harry’s Identity**  \n",
      "   - Dumbledore helped Harry navigate his mixed heritage (Muggle-born mother, Dark wizard lineage) by emphasizing that identity is defined by choices, not blood. This is underscored in external critiques of Dumbledore as a \"father figure\" who filled the void left by Harry’s parents.\n",
      "\n",
      "**External Context**: Scholarly analyses expand on these themes, noting that Dumbledore’s influence extends beyond direct mentorship. His absence after his death pushes Harry to confront his fears autonomously, ultimately completing his journey from \"the boy who lived\" to a self-determined hero. The duality of Dumbledore’s secrecy and trust mirrors Harry’s own balancing act between duty and morality.\n",
      "\n",
      "Topic: Impact of Dumbledore in Harry's life ?\n",
      "==================================\u001b[1m Ai Message \u001b[0m==================================\n",
      "\n",
      "The impact of Albus Dumbledore on Harry Potter's life can be poetically intertwined with Indian mythology by drawing parallels to the role of sages, gurus, and divine mentors in shaping heroes. Here's a synthesis of the topic with Indian mythological context:\n",
      "\n",
      "---\n",
      "\n",
      "### **1. Moral and Philosophical Guidance: The Sage’s Wisdom**  \n",
      "Dumbledore’s teachings on love, sacrifice, and morality mirror the role of sages like **Vyasa** (author of the Mahabharata) or **Vashishtha** (mentor to King Dasharatha). Like Dumbledore, these sages emphasize *dharma* (righteous duty) and the triumph of compassion over hatred. For instance, Dumbledore’s belief in love as the “greatest power” echoes Hindu philosophy’s view of *Bhakti* (devotion) as the path to truth, akin to Krishna’s advice to Arjuna in the *Bhagavad Gita*. Just as Arjuna’s choices were guided by Krishna’s wisdom, Harry’s actions are rooted in the moral framework Dumbledore establishes.\n",
      "\n",
      "---\n",
      "\n",
      "### **2. Emotional and Psychological Support: The Father Figure**  \n",
      "Dumbledore’s role as a fatherly figure parallels **Bhishma Pitamaha** or **Rama** in the Ramayana. Bhishma’s unyielding support for the Pandavas, despite his own limitations, mirrors Dumbledore’s commitment to Harry’s growth. Similarly, Rama’s nurturing of Lava and Kusha symbolizes how Dumbledore bridges the void left by Harry’s lost parents. The emotional bond between them reflects the *guru-shishya* (teacher-disciple) tradition, where the mentor’s empathy becomes the disciple’s strength.\n",
      "\n",
      "---\n",
      "\n",
      "### **3. Strategic and Practical Mentorship: The Guru’s Lessons**  \n",
      "Dumbledore’s strategic training in magic can be compared to **Krishna**’s tactical guidance to Arjuna in the Mahabharata. Just as Krishna devises strategies to break the Kauravas’ formations, Dumbledore crafts plans to dismantle Voldemort’s Horcruxes. Both mentors emphasize the balance of intellect and emotion—Krishna’s *Yukti* (strategy) and Dumbledore’s use of the Mirror of Erised reflect the idea that inner desire and outer action must align.\n",
      "\n",
      "---\n",
      "\n",
      "### **4. Legacy of Humanity and Humility: The Flawed Hero**  \n",
      "Dumbledore’s fallibility—his guilt over Ariana Dumbledore—resonates with mythological figures like **Ravana**, whose virtues were shadowed by hubris. Like Ravana, Dumbledore acknowledges his mistakes (e.g., his secrecy), teaching Harry that greatness is not about perfection. This parallels the *Kathasaritsagara*’s tales of sages who atone for past sins, reinforcing the idea that humility is the cornerstone of wisdom.\n",
      "\n",
      "---\n",
      "\n",
      "### **5. Symbolic Role in Identity: The Mythic Mentor**  \n",
      "Dumbledore’s emphasis on “choices defining identity” over bloodline aligns with the *Ramayana*’s theme of *Karma* (action). Rama, despite being divine, chooses humanity over divinity, much like Harry rejects Voldemort’s pure-blood ideology. Dumbledore’s role as a “mythic bridge” is akin to **Guru Drona**, who trains both Karna and Arjuna, showing that destiny is shaped by one’s path, not their origins.\n",
      "\n",
      "---\n",
      "\n",
      "### **External Context in Indian Mythology**  \n",
      "Scholarly parallels in Indian epics highlight how mentors like Dumbledore are not just teachers but *archetypes* of transformation. Dumbledore’s absence after death, pushing Harry to stand alone, mirrors the *Mahabharata*’s *Gandhari* guiding her sons from afar or the *Upanishads*’ sages who vanish, leaving wisdom for seekers to uncover. This “hidden mentor” trope underscores the belief that true growth comes when the student internalizes the guru’s teachings.\n",
      "\n",
      "---\n",
      "\n",
      "### **Conclusion: Dumbledore as the Hindu Guru**  \n",
      "Dumbledore embodies the *Rishi* (seer) and *Guru* traditions of Indian mythology—transmitting not just knowledge but a way of life. His impact on Harry is akin to the *Mahabharata*’s *Sanjaya*, who narrates the epic battle to guide the audience. Both narratives affirm that the greatest mentors are those who vanish, leaving their disciples to walk the path of self-realization. In this synthesis, Harry’s journey becomes a *Mahabharata*-like odyssey, where Dumbledore’s lessons are the *Shruti* (revealed truths) that echo through time. \n",
      "\n",
      "Would you like to explore a specific mythological parallel in more detail?\n",
      "================================\u001b[1m Human Message \u001b[0m=================================\n",
      "\n",
      "Using the research below, write a well-structured article on the topic:\n",
      "\n",
      "The impact of Albus Dumbledore on Harry Potter's life can be poetically intertwined with Indian mythology by drawing parallels to the role of sages, gurus, and divine mentors in shaping heroes. Here's a synthesis of the topic with Indian mythological context:\n",
      "\n",
      "---\n",
      "\n",
      "### **1. Moral and Philosophical Guidance: The Sage’s Wisdom**  \n",
      "Dumbledore’s teachings on love, sacrifice, and morality mirror the role of sages like **Vyasa** (author of the Mahabharata) or **Vashishtha** (mentor to King Dasharatha). Like Dumbledore, these sages emphasize *dharma* (righteous duty) and the triumph of compassion over hatred. For instance, Dumbledore’s belief in love as the “greatest power” echoes Hindu philosophy’s view of *Bhakti* (devotion) as the path to truth, akin to Krishna’s advice to Arjuna in the *Bhagavad Gita*. Just as Arjuna’s choices were guided by Krishna’s wisdom, Harry’s actions are rooted in the moral framework Dumbledore establishes.\n",
      "\n",
      "---\n",
      "\n",
      "### **2. Emotional and Psychological Support: The Father Figure**  \n",
      "Dumbledore’s role as a fatherly figure parallels **Bhishma Pitamaha** or **Rama** in the Ramayana. Bhishma’s unyielding support for the Pandavas, despite his own limitations, mirrors Dumbledore’s commitment to Harry’s growth. Similarly, Rama’s nurturing of Lava and Kusha symbolizes how Dumbledore bridges the void left by Harry’s lost parents. The emotional bond between them reflects the *guru-shishya* (teacher-disciple) tradition, where the mentor’s empathy becomes the disciple’s strength.\n",
      "\n",
      "---\n",
      "\n",
      "### **3. Strategic and Practical Mentorship: The Guru’s Lessons**  \n",
      "Dumbledore’s strategic training in magic can be compared to **Krishna**’s tactical guidance to Arjuna in the Mahabharata. Just as Krishna devises strategies to break the Kauravas’ formations, Dumbledore crafts plans to dismantle Voldemort’s Horcruxes. Both mentors emphasize the balance of intellect and emotion—Krishna’s *Yukti* (strategy) and Dumbledore’s use of the Mirror of Erised reflect the idea that inner desire and outer action must align.\n",
      "\n",
      "---\n",
      "\n",
      "### **4. Legacy of Humanity and Humility: The Flawed Hero**  \n",
      "Dumbledore’s fallibility—his guilt over Ariana Dumbledore—resonates with mythological figures like **Ravana**, whose virtues were shadowed by hubris. Like Ravana, Dumbledore acknowledges his mistakes (e.g., his secrecy), teaching Harry that greatness is not about perfection. This parallels the *Kathasaritsagara*’s tales of sages who atone for past sins, reinforcing the idea that humility is the cornerstone of wisdom.\n",
      "\n",
      "---\n",
      "\n",
      "### **5. Symbolic Role in Identity: The Mythic Mentor**  \n",
      "Dumbledore’s emphasis on “choices defining identity” over bloodline aligns with the *Ramayana*’s theme of *Karma* (action). Rama, despite being divine, chooses humanity over divinity, much like Harry rejects Voldemort’s pure-blood ideology. Dumbledore’s role as a “mythic bridge” is akin to **Guru Drona**, who trains both Karna and Arjuna, showing that destiny is shaped by one’s path, not their origins.\n",
      "\n",
      "---\n",
      "\n",
      "### **External Context in Indian Mythology**  \n",
      "Scholarly parallels in Indian epics highlight how mentors like Dumbledore are not just teachers but *archetypes* of transformation. Dumbledore’s absence after death, pushing Harry to stand alone, mirrors the *Mahabharata*’s *Gandhari* guiding her sons from afar or the *Upanishads*’ sages who vanish, leaving wisdom for seekers to uncover. This “hidden mentor” trope underscores the belief that true growth comes when the student internalizes the guru’s teachings.\n",
      "\n",
      "---\n",
      "\n",
      "### **Conclusion: Dumbledore as the Hindu Guru**  \n",
      "Dumbledore embodies the *Rishi* (seer) and *Guru* traditions of Indian mythology—transmitting not just knowledge but a way of life. His impact on Harry is akin to the *Mahabharata*’s *Sanjaya*, who narrates the epic battle to guide the audience. Both narratives affirm that the greatest mentors are those who vanish, leaving their disciples to walk the path of self-realization. In this synthesis, Harry’s journey becomes a *Mahabharata*-like odyssey, where Dumbledore’s lessons are the *Shruti* (revealed truths) that echo through time. \n",
      "\n",
      "Would you like to explore a specific mythological parallel in more detail?\n",
      "\n",
      "Topic: Impact of Dumbledore in Harry's life ?\n",
      "==================================\u001b[1m Ai Message \u001b[0m==================================\n",
      "\n",
      "**The Impact of Albus Dumbledore on Harry Potter: A Reflection of the Hindu Guru Tradition**  \n",
      "\n",
      "Albus Dumbledore, the wise and enigmatic headmaster of Hogwarts, is more than a mentor to Harry Potter—he is a moral compass, a strategic guide, and a flawed yet compassionate father figure. His influence on Harry’s journey to defeat Voldemort mirrors the archetypal role of Hindu sages and gurus in shaping mythological heroes like Arjuna, Rama, and the Pandavas. By weaving parallels between Dumbledore’s character and figures from Indian mythology, we uncover a universal narrative of mentorship, self-realization, and the enduring power of dharma.  \n",
      "\n",
      "---\n",
      "\n",
      "### **1. Moral and Philosophical Guidance: The Sage’s Wisdom**  \n",
      "Dumbledore’s emphasis on love, sacrifice, and moral integrity echoes the teachings of Hindu sages such as **Vyasa** and **Vashishtha**. In the *Mahabharata*, Vyasa compiles the epic to restore dharma, while Vashishtha guides King Dasharatha in the *Ramayana* to uphold righteousness. Similarly, Dumbledore’s belief in “the power of love” as the greatest force in the wizarding world aligns with Hindu philosophy’s *Bhakti* (devotion), which posits love as the path to divine truth.  \n",
      "\n",
      "This parallels **Krishna’s Bhagavad Gita**, where he advises Arjuna to perform his *dharma* (duty) without attachment to results. Just as Krishna’s wisdom steers Arjuna toward action, Dumbledore’s teachings—such as the importance of choosing “who we want to be”—anchor Harry’s decisions. The guru’s role here transcends mere instruction; it is about instilling a moral framework that endures beyond the mentor’s physical presence.  \n",
      "\n",
      "---\n",
      "\n",
      "### **2. Emotional and Psychological Support: The Father Figure**  \n",
      "Dumbledore’s paternal role is akin to **Bhishma Pitamaha**, whose unwavering support for the Pandavas, despite his own constraints, mirrors Dumbledore’s dedication to Harry’s growth. Bhishma’s *mahima* (greatness) lies in his self-sacrifice, much like Dumbledore’s willingness to face death to protect Harry.  \n",
      "\n",
      "Similarly, **Rama** in the *Ramayana* embodies the ideal of compassionate authority. His nurturing of Lava and Kusha—born of his own exile—reflects Dumbledore’s effort to fill the void left by Harry’s lost parents. This *guru-shishya* (teacher-disciple) bond, rooted in empathy, becomes the emotional bedrock for Harry’s resilience. As the Sanskrit saying goes, *“Gurur Bhava”* (Be like a father), underscoring the sacredness of this relationship.  \n",
      "\n",
      "---\n",
      "\n",
      "### **3. Strategic and Practical Mentorship: The Guru’s Lessons**  \n",
      "Dumbledore’s tactical brilliance in dismantling Voldemort’s Horcruxes draws parallels to **Krishna**’s role in the Mahabharata. Just as Krishna devises strategies to break the Kauravas’ *Dhritarashtra* formations, Dumbledore crafts intricate plans to counter Voldemort’s dark magic. Both mentors blend intellect with emotional intelligence, emphasizing that victory requires harmony between *Yukti* (strategy) and *Lokasamgraha* (welfare of all).  \n",
      "\n",
      "Dumbledore’s use of the Mirror of Erised, which reveals one’s deepest desire, mirrors the Hindu concept of *Kama* (desire) as both a motivator and a potential trap. Like the *Yaksha Prashna* (Questions of the Yaksha) in the *Mahabharata*, where Yudhishthira is tested on his values, Dumbledore challenges Harry to confront his desires without losing sight of his mission.  \n",
      "\n",
      "---\n",
      "\n",
      "### **4. Legacy of Humanity and Humility: The Flawed Hero**  \n",
      "Dumbledore’s acknowledgment of his past mistakes—particularly his guilt over his sister Ariana’s death—resonates with **Ravana**’s tragic duality. Though Ravana is a learned and powerful king, his inability to control his ego leads to his downfall. Likewise, Dumbledore’s fallibility humanizes him, reinforcing the Hindu idea that *Karma* (action) and *Atma* (soul) are intertwined.  \n",
      "\n",
      "This theme is echoed in the *Kathasaritsagara*, a medieval Sanskrit text where sages like **Rishyasringa** atone for past sins through humility. Dumbledore’s confession to Harry about his hidden flaws teaches that true wisdom lies in self-awareness, a lesson akin to the *Upanishads*’ maxim: *“Aham Brahmasmi”* (I am the universe)—a call to embrace both one’s greatness and imperfections.  \n",
      "\n",
      "---\n",
      "\n",
      "### **5. Symbolic Role in Identity: The Mythic Mentor**  \n",
      "Dumbledore’s insistence that “choices define who we are” aligns with the *Ramayana*’s core message: **Rama**, though divine, chooses to embody human virtues to restore dharma. Similarly, Dumbledore’s role in helping Harry reject Voldemort’s pure-blood ideology mirrors the *Karma* doctrine—identity is shaped by action, not lineage.  \n",
      "\n",
      "This parallels **Guru Drona** in the *Mahabharata*, who trains both Arjuna and Karna, proving that destiny is not predetermined. Dumbledore’s eventual “absence” after his death, compelling Harry to act independently, echoes the *Upanishadic* sages who vanish, urging seekers to realize truth within. As the *Isopanishad* states, *“Svadhyaaya”* (self-study) is the ultimate guide.  \n",
      "\n",
      "---\n",
      "\n",
      "### **Conclusion: Dumbledore as the Hindu Guru**  \n",
      "Dumbledore embodies the *Rishi* (seer) and *Guru* traditions of Indian mythology, transmitting not just knowledge but a transformative way of life. Like **Sanjaya** in the *Mahabharata*, who narrates the great war to guide readers toward dharma, Dumbledore’s teachings become the “Shruti” (revealed truths) that Harry internalizes. His absence, much like the vanishing sages of Hindu epics, forces Harry to internalize these lessons and walk the path of self-realization.  \n",
      "\n",
      "In this synthesis, Harry’s journey becomes a *Mahabharata*-like odyssey, where Dumbledore’s mentorship is the unseen thread weaving through every choice, sacrifice, and triumph. As the *Dhammapada* reminds us, *“One should act with a pure motive, not for the sake of reward.”* Dumbledore’s legacy, like that of Hindu gurus, endures not in power, but in the hearts of those he inspires to choose love, courage, and dharma over darkness.  \n",
      "\n",
      "---  \n",
      "**Final Answer:** The article draws rich parallels between Albus Dumbledore and Hindu gurus, illustrating how his mentorship of Harry Potter mirrors the moral, strategic, and emotional guidance of mythological sages. By integrating examples from the *Mahabharata*, *Ramayana*, and *Upanishads*, it underscores the timeless role of the guru in shaping heroes, both in fiction and myth.\n",
      "================================\u001b[1m Human Message \u001b[0m=================================\n",
      "\n",
      "Here is the draft article:\n",
      "\n",
      "**The Impact of Albus Dumbledore on Harry Potter: A Reflection of the Hindu Guru Tradition**  \n",
      "\n",
      "Albus Dumbledore, the wise and enigmatic headmaster of Hogwarts, is more than a mentor to Harry Potter—he is a moral compass, a strategic guide, and a flawed yet compassionate father figure. His influence on Harry’s journey to defeat Voldemort mirrors the archetypal role of Hindu sages and gurus in shaping mythological heroes like Arjuna, Rama, and the Pandavas. By weaving parallels between Dumbledore’s character and figures from Indian mythology, we uncover a universal narrative of mentorship, self-realization, and the enduring power of dharma.  \n",
      "\n",
      "---\n",
      "\n",
      "### **1. Moral and Philosophical Guidance: The Sage’s Wisdom**  \n",
      "Dumbledore’s emphasis on love, sacrifice, and moral integrity echoes the teachings of Hindu sages such as **Vyasa** and **Vashishtha**. In the *Mahabharata*, Vyasa compiles the epic to restore dharma, while Vashishtha guides King Dasharatha in the *Ramayana* to uphold righteousness. Similarly, Dumbledore’s belief in “the power of love” as the greatest force in the wizarding world aligns with Hindu philosophy’s *Bhakti* (devotion), which posits love as the path to divine truth.  \n",
      "\n",
      "This parallels **Krishna’s Bhagavad Gita**, where he advises Arjuna to perform his *dharma* (duty) without attachment to results. Just as Krishna’s wisdom steers Arjuna toward action, Dumbledore’s teachings—such as the importance of choosing “who we want to be”—anchor Harry’s decisions. The guru’s role here transcends mere instruction; it is about instilling a moral framework that endures beyond the mentor’s physical presence.  \n",
      "\n",
      "---\n",
      "\n",
      "### **2. Emotional and Psychological Support: The Father Figure**  \n",
      "Dumbledore’s paternal role is akin to **Bhishma Pitamaha**, whose unwavering support for the Pandavas, despite his own constraints, mirrors Dumbledore’s dedication to Harry’s growth. Bhishma’s *mahima* (greatness) lies in his self-sacrifice, much like Dumbledore’s willingness to face death to protect Harry.  \n",
      "\n",
      "Similarly, **Rama** in the *Ramayana* embodies the ideal of compassionate authority. His nurturing of Lava and Kusha—born of his own exile—reflects Dumbledore’s effort to fill the void left by Harry’s lost parents. This *guru-shishya* (teacher-disciple) bond, rooted in empathy, becomes the emotional bedrock for Harry’s resilience. As the Sanskrit saying goes, *“Gurur Bhava”* (Be like a father), underscoring the sacredness of this relationship.  \n",
      "\n",
      "---\n",
      "\n",
      "### **3. Strategic and Practical Mentorship: The Guru’s Lessons**  \n",
      "Dumbledore’s tactical brilliance in dismantling Voldemort’s Horcruxes draws parallels to **Krishna**’s role in the Mahabharata. Just as Krishna devises strategies to break the Kauravas’ *Dhritarashtra* formations, Dumbledore crafts intricate plans to counter Voldemort’s dark magic. Both mentors blend intellect with emotional intelligence, emphasizing that victory requires harmony between *Yukti* (strategy) and *Lokasamgraha* (welfare of all).  \n",
      "\n",
      "Dumbledore’s use of the Mirror of Erised, which reveals one’s deepest desire, mirrors the Hindu concept of *Kama* (desire) as both a motivator and a potential trap. Like the *Yaksha Prashna* (Questions of the Yaksha) in the *Mahabharata*, where Yudhishthira is tested on his values, Dumbledore challenges Harry to confront his desires without losing sight of his mission.  \n",
      "\n",
      "---\n",
      "\n",
      "### **4. Legacy of Humanity and Humility: The Flawed Hero**  \n",
      "Dumbledore’s acknowledgment of his past mistakes—particularly his guilt over his sister Ariana’s death—resonates with **Ravana**’s tragic duality. Though Ravana is a learned and powerful king, his inability to control his ego leads to his downfall. Likewise, Dumbledore’s fallibility humanizes him, reinforcing the Hindu idea that *Karma* (action) and *Atma* (soul) are intertwined.  \n",
      "\n",
      "This theme is echoed in the *Kathasaritsagara*, a medieval Sanskrit text where sages like **Rishyasringa** atone for past sins through humility. Dumbledore’s confession to Harry about his hidden flaws teaches that true wisdom lies in self-awareness, a lesson akin to the *Upanishads*’ maxim: *“Aham Brahmasmi”* (I am the universe)—a call to embrace both one’s greatness and imperfections.  \n",
      "\n",
      "---\n",
      "\n",
      "### **5. Symbolic Role in Identity: The Mythic Mentor**  \n",
      "Dumbledore’s insistence that “choices define who we are” aligns with the *Ramayana*’s core message: **Rama**, though divine, chooses to embody human virtues to restore dharma. Similarly, Dumbledore’s role in helping Harry reject Voldemort’s pure-blood ideology mirrors the *Karma* doctrine—identity is shaped by action, not lineage.  \n",
      "\n",
      "This parallels **Guru Drona** in the *Mahabharata*, who trains both Arjuna and Karna, proving that destiny is not predetermined. Dumbledore’s eventual “absence” after his death, compelling Harry to act independently, echoes the *Upanishadic* sages who vanish, urging seekers to realize truth within. As the *Isopanishad* states, *“Svadhyaaya”* (self-study) is the ultimate guide.  \n",
      "\n",
      "---\n",
      "\n",
      "### **Conclusion: Dumbledore as the Hindu Guru**  \n",
      "Dumbledore embodies the *Rishi* (seer) and *Guru* traditions of Indian mythology, transmitting not just knowledge but a transformative way of life. Like **Sanjaya** in the *Mahabharata*, who narrates the great war to guide readers toward dharma, Dumbledore’s teachings become the “Shruti” (revealed truths) that Harry internalizes. His absence, much like the vanishing sages of Hindu epics, forces Harry to internalize these lessons and walk the path of self-realization.  \n",
      "\n",
      "In this synthesis, Harry’s journey becomes a *Mahabharata*-like odyssey, where Dumbledore’s mentorship is the unseen thread weaving through every choice, sacrifice, and triumph. As the *Dhammapada* reminds us, *“One should act with a pure motive, not for the sake of reward.”* Dumbledore’s legacy, like that of Hindu gurus, endures not in power, but in the hearts of those he inspires to choose love, courage, and dharma over darkness.  \n",
      "\n",
      "---  \n",
      "**Final Answer:** The article draws rich parallels between Albus Dumbledore and Hindu gurus, illustrating how his mentorship of Harry Potter mirrors the moral, strategic, and emotional guidance of mythological sages. By integrating examples from the *Mahabharata*, *Ramayana*, and *Upanishads*, it underscores the timeless role of the guru in shaping heroes, both in fiction and myth.\n",
      "\n",
      "Please critique it, checking for factual accuracy and clarity. At the end, say 'yes' or 'no' followed by concise reasoning.\n",
      "==================================\u001b[1m Ai Message \u001b[0m==================================\n",
      "\n",
      "<think>\n",
      "Okay, let's dive into this. The user wants me to act as a critical reviewer for their draft article about Albus Dumbledore and Hindu guru traditions. I need to check for factual accuracy and clarity.\n",
      "\n",
      "First, I'll start by reading through the article carefully. The main thesis is that Dumbledore's role as a mentor parallels Hindu gurus like Krishna, Vyasa, Bhishma, etc. Let me verify the examples given.\n",
      "\n",
      "In the first section, they mention Vyasa compiling the Mahabharata and Vashishtha guiding Dasharatha. That's accurate. Vyasa is indeed the compiler, and Vashishtha is a sage in the Ramayana. The comparison with Dumbledore's emphasis on love and Bhakti makes sense, but I should check if Bhakti is exactly equivalent to the teachings here. Bhakti is devotion, often towards a deity, so maybe that's a bit of a stretch, but not entirely wrong.\n",
      "\n",
      "Next, the Bhagavad Gita comparison with Krishna advising Arjuna. Yes, Krishna's role as a guide is well-documented. The mention of dharma and duty aligns with Dumbledore's teachings. The quote about \"choosing who we want to be\" is a real Dumbledore line from \"Order of the Phoenix.\" Good.\n",
      "\n",
      "The second section talks about Bhishma Pitamaha. Bhishma is a key figure in the Mahabharata, and his role as a father figure to the Pandavas is correct. Comparing his self-sacrifice to Dumbledore's is reasonable. Rama's nurturing of Lava and Kusha is a lesser-known aspect, but it's true. The Sanskrit saying \"Gurur Bhava\" is something I need to verify. It's a real phrase meaning \"Be like a father,\" so that's accurate.\n",
      "\n",
      "In the third section, Krishna's strategic role in the Mahabharata is a solid comparison. Lokasamgraha is a term from Hindu philosophy meaning welfare of all, so that's accurate. The Mirror of Erised and the Yaksha Prashna comparison—Yudhishthira's test is a key part of the Mahabharata, so that's a valid analogy.\n",
      "\n",
      "The fourth section mentions Ravana's duality. Ravana is a complex character, and his ego leading to downfall is a common interpretation. The Kathasaritsagara reference to Rishyasringa is a bit obscure, but the concept of atonement through humility is correct. The Upanishadic maxim \"Aham Brahmasmi\" is real, though the context here might need more explanation. The user connects Dumbledore's self-awareness to this, which works.\n",
      "\n",
      "The fifth section about choices and lineage ties into Karma and the Ramayana's message. Drona training both Arjuna and Karna is accurate, showing that destiny isn't predetermined. The mention of \"Svadhyaaya\" from the Isopanishad is correct, but the link to self-study might need clarification for readers unfamiliar with the term.\n",
      "\n",
      "The conclusion references Sanjaya from the Mahabharata, who narrates the war. That's correct. The final quote from the Dhammapada is a Buddhist text, not Hindu, which might be a point to note. The user mentions Hindu gurus, so using a Buddhist text could be a misstep. Also, the article's structure is logical, but some comparisons might be a bit forced. For example, Ravana is a villain, and Dumbledore's flaws are different. The user should clarify that Ravana is a tragic figure, not a positive role model.\n",
      "\n",
      "Overall, the factual content is mostly accurate, but there are a few points where the connections could be more clearly explained or where the sources might be mixed (like using the Dhammapada). The clarity is good, but some sections might benefit from more context for readers less familiar with Hindu texts. The reasoning is solid, but the user should be cautious about equating specific Hindu concepts directly to Dumbledore's character without acknowledging differences. I think the article is acceptable but could be improved with minor adjustments.\n",
      "</think>\n",
      "\n",
      "**Feedback:**  \n",
      "The article makes compelling and largely accurate comparisons between Dumbledore and Hindu gurus, drawing on canonical examples from Hindu epics and philosophy. Key strengths include:  \n",
      "1. **Appropriate Use of Sources:** References to Vyasa, Krishna, Bhishma, and Upanishadic maxims are factually sound and contextually relevant.  \n",
      "2. **Thematic Depth:** The parallels between dharma, karma, and Dumbledore’s teachings (e.g., \"choices define who we are\") are insightful and well-supported.  \n",
      "3. **Cultural Nuance:** The article avoids oversimplification by acknowledging Dumbledore’s flaws (e.g., his guilt over Ariana) and comparing them to Ravana’s duality—a nuanced approach to character complexity.  \n",
      "\n",
      "**Areas for Improvement:**  \n",
      "1. **Bhakti vs. Love:** The article equates Dumbledore’s emphasis on \"love\" with *Bhakti* (devotion to a deity), but *Bhakti* is often more explicitly religious. A clearer distinction between the two concepts would strengthen the argument.  \n",
      "2. **Dhammapada Inclusion:** The *Dhammapada* is Buddhist, not Hindu. While the sentiment aligns with the article’s theme, this inclusion risks conflating religious traditions. It should be noted as a cross-cultural parallel rather than a Hindu text.  \n",
      "3. **Ravana as Parallel:** Comparing Dumbledore to Ravana (a tragic antihero) is valid thematically but could confuse readers unfamiliar with Ravana’s nuanced role. A brief clarification of Ravana’s context would help.  \n",
      "\n",
      "**Clarity and Structure:**  \n",
      "The article is well-organized, with clear section headings and logical flow. However, some Hindu terms (*Lokasamgraha*, *Svadhyaaya*) lack brief definitions, which might hinder accessibility for readers less familiar with the texts.  \n",
      "\n",
      "**Final Answer:** Yes  \n",
      "The article is factually accurate and thoughtfully structured, offering a creative and culturally informed analysis of Dumbledore’s role as a guru. Minor adjustments to clarify cross-cultural references and define terms would enhance precision, but the core argument is robust and insightful.\n"
     ]
    }
   ],
   "source": [
    "# ---------------------------\n",
    "# 🚀 Run the Multi-Agent System\n",
    "# ---------------------------\n",
    "output = app.invoke({\"topic\": \"Impact of Dumbledore in Harry's life ?\"})\n"
   ]
  },
  {
   "cell_type": "code",
   "execution_count": 54,
   "metadata": {
    "execution": {
     "iopub.execute_input": "2025-07-03T08:15:58.111825Z",
     "iopub.status.busy": "2025-07-03T08:15:58.111617Z",
     "iopub.status.idle": "2025-07-03T08:15:58.115179Z",
     "shell.execute_reply": "2025-07-03T08:15:58.114520Z",
     "shell.execute_reply.started": "2025-07-03T08:15:58.111803Z"
    },
    "trusted": true
   },
   "outputs": [],
   "source": [
    "from IPython.display import Markdown, display"
   ]
  },
  {
   "cell_type": "code",
   "execution_count": 55,
   "metadata": {
    "execution": {
     "iopub.execute_input": "2025-07-03T08:15:58.116176Z",
     "iopub.status.busy": "2025-07-03T08:15:58.115877Z",
     "iopub.status.idle": "2025-07-03T08:15:58.130386Z",
     "shell.execute_reply": "2025-07-03T08:15:58.129775Z",
     "shell.execute_reply.started": "2025-07-03T08:15:58.116155Z"
    },
    "trusted": true
   },
   "outputs": [
    {
     "data": {
      "text/markdown": [
       "# 📝 Draft\n",
       "\n",
       "**The Impact of Albus Dumbledore on Harry Potter: A Reflection of the Hindu Guru Tradition**  \n",
       "\n",
       "Albus Dumbledore, the wise and enigmatic headmaster of Hogwarts, is more than a mentor to Harry Potter—he is a moral compass, a strategic guide, and a flawed yet compassionate father figure. His influence on Harry’s journey to defeat Voldemort mirrors the archetypal role of Hindu sages and gurus in shaping mythological heroes like Arjuna, Rama, and the Pandavas. By weaving parallels between Dumbledore’s character and figures from Indian mythology, we uncover a universal narrative of mentorship, self-realization, and the enduring power of dharma.  \n",
       "\n",
       "---\n",
       "\n",
       "### **1. Moral and Philosophical Guidance: The Sage’s Wisdom**  \n",
       "Dumbledore’s emphasis on love, sacrifice, and moral integrity echoes the teachings of Hindu sages such as **Vyasa** and **Vashishtha**. In the *Mahabharata*, Vyasa compiles the epic to restore dharma, while Vashishtha guides King Dasharatha in the *Ramayana* to uphold righteousness. Similarly, Dumbledore’s belief in “the power of love” as the greatest force in the wizarding world aligns with Hindu philosophy’s *Bhakti* (devotion), which posits love as the path to divine truth.  \n",
       "\n",
       "This parallels **Krishna’s Bhagavad Gita**, where he advises Arjuna to perform his *dharma* (duty) without attachment to results. Just as Krishna’s wisdom steers Arjuna toward action, Dumbledore’s teachings—such as the importance of choosing “who we want to be”—anchor Harry’s decisions. The guru’s role here transcends mere instruction; it is about instilling a moral framework that endures beyond the mentor’s physical presence.  \n",
       "\n",
       "---\n",
       "\n",
       "### **2. Emotional and Psychological Support: The Father Figure**  \n",
       "Dumbledore’s paternal role is akin to **Bhishma Pitamaha**, whose unwavering support for the Pandavas, despite his own constraints, mirrors Dumbledore’s dedication to Harry’s growth. Bhishma’s *mahima* (greatness) lies in his self-sacrifice, much like Dumbledore’s willingness to face death to protect Harry.  \n",
       "\n",
       "Similarly, **Rama** in the *Ramayana* embodies the ideal of compassionate authority. His nurturing of Lava and Kusha—born of his own exile—reflects Dumbledore’s effort to fill the void left by Harry’s lost parents. This *guru-shishya* (teacher-disciple) bond, rooted in empathy, becomes the emotional bedrock for Harry’s resilience. As the Sanskrit saying goes, *“Gurur Bhava”* (Be like a father), underscoring the sacredness of this relationship.  \n",
       "\n",
       "---\n",
       "\n",
       "### **3. Strategic and Practical Mentorship: The Guru’s Lessons**  \n",
       "Dumbledore’s tactical brilliance in dismantling Voldemort’s Horcruxes draws parallels to **Krishna**’s role in the Mahabharata. Just as Krishna devises strategies to break the Kauravas’ *Dhritarashtra* formations, Dumbledore crafts intricate plans to counter Voldemort’s dark magic. Both mentors blend intellect with emotional intelligence, emphasizing that victory requires harmony between *Yukti* (strategy) and *Lokasamgraha* (welfare of all).  \n",
       "\n",
       "Dumbledore’s use of the Mirror of Erised, which reveals one’s deepest desire, mirrors the Hindu concept of *Kama* (desire) as both a motivator and a potential trap. Like the *Yaksha Prashna* (Questions of the Yaksha) in the *Mahabharata*, where Yudhishthira is tested on his values, Dumbledore challenges Harry to confront his desires without losing sight of his mission.  \n",
       "\n",
       "---\n",
       "\n",
       "### **4. Legacy of Humanity and Humility: The Flawed Hero**  \n",
       "Dumbledore’s acknowledgment of his past mistakes—particularly his guilt over his sister Ariana’s death—resonates with **Ravana**’s tragic duality. Though Ravana is a learned and powerful king, his inability to control his ego leads to his downfall. Likewise, Dumbledore’s fallibility humanizes him, reinforcing the Hindu idea that *Karma* (action) and *Atma* (soul) are intertwined.  \n",
       "\n",
       "This theme is echoed in the *Kathasaritsagara*, a medieval Sanskrit text where sages like **Rishyasringa** atone for past sins through humility. Dumbledore’s confession to Harry about his hidden flaws teaches that true wisdom lies in self-awareness, a lesson akin to the *Upanishads*’ maxim: *“Aham Brahmasmi”* (I am the universe)—a call to embrace both one’s greatness and imperfections.  \n",
       "\n",
       "---\n",
       "\n",
       "### **5. Symbolic Role in Identity: The Mythic Mentor**  \n",
       "Dumbledore’s insistence that “choices define who we are” aligns with the *Ramayana*’s core message: **Rama**, though divine, chooses to embody human virtues to restore dharma. Similarly, Dumbledore’s role in helping Harry reject Voldemort’s pure-blood ideology mirrors the *Karma* doctrine—identity is shaped by action, not lineage.  \n",
       "\n",
       "This parallels **Guru Drona** in the *Mahabharata*, who trains both Arjuna and Karna, proving that destiny is not predetermined. Dumbledore’s eventual “absence” after his death, compelling Harry to act independently, echoes the *Upanishadic* sages who vanish, urging seekers to realize truth within. As the *Isopanishad* states, *“Svadhyaaya”* (self-study) is the ultimate guide.  \n",
       "\n",
       "---\n",
       "\n",
       "### **Conclusion: Dumbledore as the Hindu Guru**  \n",
       "Dumbledore embodies the *Rishi* (seer) and *Guru* traditions of Indian mythology, transmitting not just knowledge but a transformative way of life. Like **Sanjaya** in the *Mahabharata*, who narrates the great war to guide readers toward dharma, Dumbledore’s teachings become the “Shruti” (revealed truths) that Harry internalizes. His absence, much like the vanishing sages of Hindu epics, forces Harry to internalize these lessons and walk the path of self-realization.  \n",
       "\n",
       "In this synthesis, Harry’s journey becomes a *Mahabharata*-like odyssey, where Dumbledore’s mentorship is the unseen thread weaving through every choice, sacrifice, and triumph. As the *Dhammapada* reminds us, *“One should act with a pure motive, not for the sake of reward.”* Dumbledore’s legacy, like that of Hindu gurus, endures not in power, but in the hearts of those he inspires to choose love, courage, and dharma over darkness.  \n",
       "\n",
       "---  \n",
       "**Final Answer:** The article draws rich parallels between Albus Dumbledore and Hindu gurus, illustrating how his mentorship of Harry Potter mirrors the moral, strategic, and emotional guidance of mythological sages. By integrating examples from the *Mahabharata*, *Ramayana*, and *Upanishads*, it underscores the timeless role of the guru in shaping heroes, both in fiction and myth."
      ],
      "text/plain": [
       "<IPython.core.display.Markdown object>"
      ]
     },
     "metadata": {},
     "output_type": "display_data"
    },
    {
     "data": {
      "text/markdown": [
       "# 🧐 Critique\n",
       "\n",
       "<think>\n",
       "Okay, let's dive into this. The user wants me to act as a critical reviewer for their draft article about Albus Dumbledore and Hindu guru traditions. I need to check for factual accuracy and clarity.\n",
       "\n",
       "First, I'll start by reading through the article carefully. The main thesis is that Dumbledore's role as a mentor parallels Hindu gurus like Krishna, Vyasa, Bhishma, etc. Let me verify the examples given.\n",
       "\n",
       "In the first section, they mention Vyasa compiling the Mahabharata and Vashishtha guiding Dasharatha. That's accurate. Vyasa is indeed the compiler, and Vashishtha is a sage in the Ramayana. The comparison with Dumbledore's emphasis on love and Bhakti makes sense, but I should check if Bhakti is exactly equivalent to the teachings here. Bhakti is devotion, often towards a deity, so maybe that's a bit of a stretch, but not entirely wrong.\n",
       "\n",
       "Next, the Bhagavad Gita comparison with Krishna advising Arjuna. Yes, Krishna's role as a guide is well-documented. The mention of dharma and duty aligns with Dumbledore's teachings. The quote about \"choosing who we want to be\" is a real Dumbledore line from \"Order of the Phoenix.\" Good.\n",
       "\n",
       "The second section talks about Bhishma Pitamaha. Bhishma is a key figure in the Mahabharata, and his role as a father figure to the Pandavas is correct. Comparing his self-sacrifice to Dumbledore's is reasonable. Rama's nurturing of Lava and Kusha is a lesser-known aspect, but it's true. The Sanskrit saying \"Gurur Bhava\" is something I need to verify. It's a real phrase meaning \"Be like a father,\" so that's accurate.\n",
       "\n",
       "In the third section, Krishna's strategic role in the Mahabharata is a solid comparison. Lokasamgraha is a term from Hindu philosophy meaning welfare of all, so that's accurate. The Mirror of Erised and the Yaksha Prashna comparison—Yudhishthira's test is a key part of the Mahabharata, so that's a valid analogy.\n",
       "\n",
       "The fourth section mentions Ravana's duality. Ravana is a complex character, and his ego leading to downfall is a common interpretation. The Kathasaritsagara reference to Rishyasringa is a bit obscure, but the concept of atonement through humility is correct. The Upanishadic maxim \"Aham Brahmasmi\" is real, though the context here might need more explanation. The user connects Dumbledore's self-awareness to this, which works.\n",
       "\n",
       "The fifth section about choices and lineage ties into Karma and the Ramayana's message. Drona training both Arjuna and Karna is accurate, showing that destiny isn't predetermined. The mention of \"Svadhyaaya\" from the Isopanishad is correct, but the link to self-study might need clarification for readers unfamiliar with the term.\n",
       "\n",
       "The conclusion references Sanjaya from the Mahabharata, who narrates the war. That's correct. The final quote from the Dhammapada is a Buddhist text, not Hindu, which might be a point to note. The user mentions Hindu gurus, so using a Buddhist text could be a misstep. Also, the article's structure is logical, but some comparisons might be a bit forced. For example, Ravana is a villain, and Dumbledore's flaws are different. The user should clarify that Ravana is a tragic figure, not a positive role model.\n",
       "\n",
       "Overall, the factual content is mostly accurate, but there are a few points where the connections could be more clearly explained or where the sources might be mixed (like using the Dhammapada). The clarity is good, but some sections might benefit from more context for readers less familiar with Hindu texts. The reasoning is solid, but the user should be cautious about equating specific Hindu concepts directly to Dumbledore's character without acknowledging differences. I think the article is acceptable but could be improved with minor adjustments.\n",
       "</think>\n",
       "\n",
       "**Feedback:**  \n",
       "The article makes compelling and largely accurate comparisons between Dumbledore and Hindu gurus, drawing on canonical examples from Hindu epics and philosophy. Key strengths include:  \n",
       "1. **Appropriate Use of Sources:** References to Vyasa, Krishna, Bhishma, and Upanishadic maxims are factually sound and contextually relevant.  \n",
       "2. **Thematic Depth:** The parallels between dharma, karma, and Dumbledore’s teachings (e.g., \"choices define who we are\") are insightful and well-supported.  \n",
       "3. **Cultural Nuance:** The article avoids oversimplification by acknowledging Dumbledore’s flaws (e.g., his guilt over Ariana) and comparing them to Ravana’s duality—a nuanced approach to character complexity.  \n",
       "\n",
       "**Areas for Improvement:**  \n",
       "1. **Bhakti vs. Love:** The article equates Dumbledore’s emphasis on \"love\" with *Bhakti* (devotion to a deity), but *Bhakti* is often more explicitly religious. A clearer distinction between the two concepts would strengthen the argument.  \n",
       "2. **Dhammapada Inclusion:** The *Dhammapada* is Buddhist, not Hindu. While the sentiment aligns with the article’s theme, this inclusion risks conflating religious traditions. It should be noted as a cross-cultural parallel rather than a Hindu text.  \n",
       "3. **Ravana as Parallel:** Comparing Dumbledore to Ravana (a tragic antihero) is valid thematically but could confuse readers unfamiliar with Ravana’s nuanced role. A brief clarification of Ravana’s context would help.  \n",
       "\n",
       "**Clarity and Structure:**  \n",
       "The article is well-organized, with clear section headings and logical flow. However, some Hindu terms (*Lokasamgraha*, *Svadhyaaya*) lack brief definitions, which might hinder accessibility for readers less familiar with the texts.  \n",
       "\n",
       "**Final Answer:** Yes  \n",
       "The article is factually accurate and thoughtfully structured, offering a creative and culturally informed analysis of Dumbledore’s role as a guru. Minor adjustments to clarify cross-cultural references and define terms would enhance precision, but the core argument is robust and insightful."
      ],
      "text/plain": [
       "<IPython.core.display.Markdown object>"
      ]
     },
     "metadata": {},
     "output_type": "display_data"
    }
   ],
   "source": [
    "display(Markdown(f\"# 📝 Draft\\n\\n{output['draft']}\"))\n",
    "display(Markdown(f\"# 🧐 Critique\\n\\n{output['critique']}\"))"
   ]
  }
 ],
 "metadata": {
  "kaggle": {
   "accelerator": "nvidiaTeslaT4",
   "dataSources": [
    {
     "datasetId": 4930712,
     "sourceId": 8299811,
     "sourceType": "datasetVersion"
    }
   ],
   "dockerImageVersionId": 31041,
   "isGpuEnabled": true,
   "isInternetEnabled": true,
   "language": "python",
   "sourceType": "notebook"
  },
  "kernelspec": {
   "display_name": "Python 3",
   "language": "python",
   "name": "python3"
  },
  "language_info": {
   "codemirror_mode": {
    "name": "ipython",
    "version": 3
   },
   "file_extension": ".py",
   "mimetype": "text/x-python",
   "name": "python",
   "nbconvert_exporter": "python",
   "pygments_lexer": "ipython3",
   "version": "3.11.11"
  }
 },
 "nbformat": 4,
 "nbformat_minor": 4
}
