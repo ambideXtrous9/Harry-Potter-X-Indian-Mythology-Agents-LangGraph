{
 "cells": [
  {
   "cell_type": "code",
   "execution_count": null,
   "id": "21be29bb",
   "metadata": {
    "vscode": {
     "languageId": "plaintext"
    }
   },
   "outputs": [],
   "source": []
  },
  {
   "cell_type": "code",
   "execution_count": null,
   "id": "1427e35f",
   "metadata": {},
   "outputs": [],
   "source": [
    "from langchain_core.output_parsers.pydantic import PydanticOutputParser\n",
    "from pydantic import ValidationError\n",
    "from langchain_core.prompts import PromptTemplate\n",
    "from pydantic import BaseModel, Field\n",
    "from typing import List"
   ]
  },
  {
   "cell_type": "code",
   "execution_count": null,
   "id": "489622bb",
   "metadata": {},
   "outputs": [],
   "source": [
    "\n",
    "\n",
    "class ArticleDraft(BaseModel):\n",
    "    title: str = Field(description=\"Title of the article\")\n",
    "    introduction: str = Field(description=\"Opening paragraph\")\n",
    "    body: str = Field(description=\"Main content\")\n",
    "    quotes: List = Field(description=\"Verified quotes or facts (must be self-contained strings without unescaped quotes)\")\n",
    "    conclusion: str = Field(description=\"Closing paragraph\")"
   ]
  },
  {
   "cell_type": "code",
   "execution_count": null,
   "id": "2373810c",
   "metadata": {},
   "outputs": [],
   "source": [
    "\n",
    "def writer_node(state):\n",
    "\n",
    "    parser = PydanticOutputParser(pydantic_object=ArticleDraft)\n",
    "\n",
    "    format_instructions = parser.get_format_instructions()\n",
    "\n",
    "    max_retries = 3\n",
    "    attempt = 0\n",
    "\n",
    "    agent = create_react_agent(\n",
    "        model=llm,\n",
    "        tools=[ddg_search_tool,retrieve_context],\n",
    "        prompt=(\n",
    "            \"You are a **Research Assistant**.\\n\"\n",
    "            \"For each query, you MUST use both tools in a logical sequence:\\n\"\n",
    "            \"1) Use **retrieve_context** to fetch internal context.\\n\"\n",
    "            \"2) Use **DuckDuckGoSearch** to gather up-to-date web facts.\\n\\n\"\n",
    "            \"Your output MUST conform to this JSON schema exactly (no extra fields, keys must match):\\n\"\n",
    "            f\"{format_instructions}\\n\\n\"\n",
    "            \"During your reasoning, label steps as Thought, Action, Observation, \"\n",
    "            \"and end with Final Answer formatted exactly as the above JSON schema.\\n\\n\"\n",
    "        )\n",
    "    )\n",
    "\n",
    "    user_msg = {\"role\": \"user\", \"content\": f\"Research this topic in detail: {state['topic']}\"}\n",
    "\n",
    "    while attempt < max_retries:\n",
    "        \n",
    "        attempt += 1\n",
    "        \n",
    "        \n",
    "        # Run agent and capture full assistant output (stream or no-stream)\n",
    "        llm_response = agent.invoke({\"messages\": [user_msg]})\n",
    "        # assistant_msg = llm_response[\"messages\"][-1]\n",
    "        # ai_content = assistant_msg.content\n",
    "\n",
    "        ai_content = \"\"\n",
    "        for step in agent.stream({\"messages\": [user_msg]}, stream_mode=\"values\"):\n",
    "            msg = step[\"messages\"][-1]\n",
    "            msg.pretty_print()\n",
    "            # Capture only if it's an assistant message\n",
    "            if isinstance(msg, AIMessage):\n",
    "                ai_content = msg.content\n",
    "        \n",
    "        \n",
    "        try :\n",
    "            # Parse the final JSON into Pydantic model\n",
    "            article: ArticleDraft = parser.parse(ai_content)\n",
    "            return article\n",
    "        except ValidationError as e:\n",
    "            print(f\"[Attempt {attempt}] Parsing failed:\", e)\n",
    "            # Optionally modify the prompt to highlight the error:\n",
    "            prompt += \"\\n\\nNote: Your previous output did not match the required JSON schema. Please fix it exactly.\"\n",
    "            continue\n",
    "\n",
    "    # If all attempts fail, raise or return empty/default\n",
    "    raise RuntimeError(f\"Failed to get valid ArticleDraft JSON after {max_retries} attempts.\")\n"
   ]
  },
  {
   "cell_type": "code",
   "execution_count": null,
   "id": "f3139a9e",
   "metadata": {},
   "outputs": [
    {
     "name": "stdout",
     "output_type": "stream",
     "text": [
      "================================\u001b[1m Human Message \u001b[0m=================================\n",
      "\n",
      "Research this topic in detail: Impact of Dumbledore in Harry's life ?\n",
      "==================================\u001b[1m Ai Message \u001b[0m==================================\n",
      "Tool Calls:\n",
      "  retrieve_context (bmxn10v8f)\n",
      " Call ID: bmxn10v8f\n",
      "  Args:\n",
      "    n_docs: 5\n",
      "    query: Impact of Dumbledore on Harry's life\n",
      "  DuckDuckGoSearch (y0m7wxd78)\n",
      " Call ID: y0m7wxd78\n",
      "  Args:\n",
      "    __arg1: Impact of Dumbledore on Harry's life\n",
      "=================================\u001b[1m Tool Message \u001b[0m=================================\n",
      "Name: DuckDuckGoSearch\n",
      "\n",
      "snippet: When we think of Harry Potter, it's impossible not to think of Albus Dumbledore. As the wise and enigmatic headmaster of Hogwarts, Dumbledore played a pivotal role in shaping not just Harry's destiny, but the entire wizarding world. Today, I want to dive deep into Dumbledore's character and explore how his actions and decisions molded Harry into the hero we all know and love. Buckle up ..., title: Dumbledore's Role in Shaping Harry Potter - Toxigon, link: https://toxigon.com/dumbledores-role-in-shaping-harry-potter, snippet: Albus Dumbledore, the wise and enigmatic headmaster of Hogwarts, plays a crucial role in shaping Harry Potter's journey. As a mentor and protector, Dumbledore's influence extends beyond his direct interactions with Harry, guiding him through the complexities of the wizarding world and the battle against Voldemort., title: The Influence of Professor Dumbledore on Harry Potter, link: https://www.accio-content.com/posts/the-influence-of-professor-dumbledore-on-harry-potter-01j3wrmcandy, snippet: Albus Dumbledore, the wise and benevolent headmaster of Hogwarts School of Witchcraft and Wizardry, is often regarded as one of the most beloved characters in the ' Harry Potter ' series. He is portrayed as a powerful wizard and a mentor to Harry Potter., title: How Dumbledore Went From Being The Greatest Wizard To The Real Villain ..., link: https://firstcuriosity.com/movies/how-dumbledore-went-from-being-the-greatest-wizard-to-the-real-villain-in-harry-potter/, snippet: SUMMARY Albus Dumbledore was seen as the wise and kind headmaster who guided Harry through tough times. But when Snape said, \"You've been raising him like a pig for slaughter,\" it made people question Dumbledore's true motives. Despite seeming cold, that difficult choice was actually what saved Harry, showing that doing the right thing can mean making hard decisions., title: Dumbledore's Greatest Betrayal Was Actually the One ... - FandomWire, link: https://fandomwire.com/dumbledores-greatest-betrayal-was-actually-the-one-thing-that-saved-harry-potters-soul/\n",
      "==================================\u001b[1m Ai Message \u001b[0m==================================\n",
      "\n",
      "{  \"title\": \"The Enduring Impact of Albus Dumbledore on Harry Potter's Life\",\n",
      "  \"introduction\": \"Albus Dumbledore, the enigmatic headmaster of Hogwarts, served as both mentor and moral compass in Harry Potter's life. Through strategic guidance and profound wisdom, Dumbledore shaped Harry's understanding of love, sacrifice, and the complexities of good versus evil throughout the series.\",\n",
      "  \"body\": \"Dumbledore's influence manifested in three key ways: 1) He provided Harry with critical knowledge about Voldemort's past and the Horcruxes, 2) He nurtured Harry's emotional growth by sharing personal vulnerabilities about his brother Aberforth, and 3) He established the Order of the Phoenix to protect Harry while preparing him for his ultimate destiny. The final conversation between Dumbledore and Harry in 'The Deathly Hallows' emphasized philosophical truths about perception and reality ('Of course it is happening inside your head, Harry, but why on earth should that mean it is not real?'). This dialogue solidified Dumbledore's role as a philosophical guide rather than just a magical authority figure.\",\n",
      "  \"quotes\": [\n",
      "    \"Do not pity the dead, Harry. Pity the living, and above all, those who live without love.\",\n",
      "    \"He killed me with your wand. He failed to kill you with my wand.\",\n",
      "    \"Why on earth should that mean it is not real?\",\n",
      "    \"Only toward him was that wand abnormally powerful. Otherwise it was a wand like any other.\",\n",
      "    \"Something horrible has happened here.\"\n",
      "  ],\n",
      "  \"conclusion\": \"Dumbledore's impact extended beyond immediate protection; he cultivated in Harry the resilience to face loss and the wisdom to choose compassion over vengeance. Though his death marked a turning point in Harry's maturity, the values instilled by Dumbledore defined Harry's heroic journey. The legacy of their relationship illustrates that true mentorship involves both guidance and the courage to let the protege forge their own path.\"\n",
      "}\n"
     ]
    }
   ],
   "source": [
    "res = writer_node({\"topic\": \"Impact of Dumbledore in Harry's life ?\"})"
   ]
  },
  {
   "cell_type": "code",
   "execution_count": null,
   "id": "2a9615d0",
   "metadata": {},
   "outputs": [
    {
     "data": {
      "text/plain": [
       "ArticleDraft(title=\"The Enduring Impact of Albus Dumbledore on Harry Potter's Life\", introduction=\"Albus Dumbledore, the enigmatic headmaster of Hogwarts, served as both mentor and moral compass in Harry Potter's life. Through strategic guidance and profound wisdom, Dumbledore shaped Harry's understanding of love, sacrifice, and the complexities of good versus evil throughout the series.\", body=\"Dumbledore's influence manifested in three key ways: 1) He provided Harry with critical knowledge about Voldemort's past and the Horcruxes, 2) He nurtured Harry's emotional growth by sharing personal vulnerabilities about his brother Aberforth, and 3) He established the Order of the Phoenix to protect Harry while preparing him for his ultimate destiny. The final conversation between Dumbledore and Harry in 'The Deathly Hallows' emphasized philosophical truths about perception and reality ('Of course it is happening inside your head, Harry, but why on earth should that mean it is not real?'). This dialogue solidified Dumbledore's role as a philosophical guide rather than just a magical authority figure.\", quotes=['Do not pity the dead, Harry. Pity the living, and above all, those who live without love.', 'He killed me with your wand. He failed to kill you with my wand.', 'Why on earth should that mean it is not real?', 'Only toward him was that wand abnormally powerful. Otherwise it was a wand like any other.', 'Something horrible has happened here.'], conclusion=\"Dumbledore's impact extended beyond immediate protection; he cultivated in Harry the resilience to face loss and the wisdom to choose compassion over vengeance. Though his death marked a turning point in Harry's maturity, the values instilled by Dumbledore defined Harry's heroic journey. The legacy of their relationship illustrates that true mentorship involves both guidance and the courage to let the protege forge their own path.\")"
      ]
     },
     "metadata": {},
     "output_type": "display_data"
    }
   ],
   "source": [
    "res"
   ]
  },
  {
   "cell_type": "code",
   "execution_count": null,
   "id": "602076b4",
   "metadata": {},
   "outputs": [],
   "source": [
    "from typing import List, Literal"
   ]
  },
  {
   "cell_type": "code",
   "execution_count": null,
   "id": "561638a4",
   "metadata": {},
   "outputs": [],
   "source": [
    "class Classify(BaseModel):\n",
    "    classification: Literal[\"generic\", \"fda\"] = Field(\n",
    "        description=\"Classify the topic type: 'generic' or 'fda'\"\n",
    "    )"
   ]
  },
  {
   "cell_type": "code",
   "execution_count": null,
   "id": "666de4ac",
   "metadata": {},
   "outputs": [],
   "source": [
    "\n",
    "def classify_node(state):\n",
    "\n",
    "    parser = PydanticOutputParser(pydantic_object=Classify)\n",
    "\n",
    "    format_instructions = parser.get_format_instructions()\n",
    "\n",
    "    max_retries = 3\n",
    "    attempt = 0\n",
    "\n",
    "    agent = create_react_agent(\n",
    "        model=llm,\n",
    "        tools=[ddg_search_tool],\n",
    "        prompt=(\n",
    "            \"You are an expert FDA decision-tree assistant.\\n\\n\"\n",
    "            \"You MUST call the DuckDuckGoSearch tool at least once before replying.\\n\\n\"\n",
    "            \"Your output MUST conform exactly to this JSON schema (no extra fields):\\n\"\n",
    "            f\"{format_instructions}\\n\\n\"\n",
    "            \"Add a key `classification` with value either \\\"generic\\\" or \\\"fda\\\":\\n\"\n",
    "            \"- If the query is a greeting or unrelated to FDA topics, set `classification` to \\\"generic\\\".\\n\"\n",
    "            \"- Otherwise (drug, medical, device, risk, regulatory, decision tree) set `classification` to \\\"fda\\\".\\n\\n\"\n",
    "            \"IMPORTANT: The output must be *only* the JSON object—no embedded reasoning.\\n\"\n",
    "        )\n",
    "    )\n",
    "\n",
    "    user_msg = {\"role\": \"user\", \"content\": f\"Classify this topic : {state['topic']}\"}\n",
    "\n",
    "    while attempt < max_retries:\n",
    "        \n",
    "        attempt += 1\n",
    "        \n",
    "        \n",
    "        # Run agent and capture full assistant output (stream or no-stream)\n",
    "        llm_response = agent.invoke({\"messages\": [user_msg]})\n",
    "        # assistant_msg = llm_response[\"messages\"][-1]\n",
    "        # ai_content = assistant_msg.content\n",
    "\n",
    "        ai_content = \"\"\n",
    "        for step in agent.stream({\"messages\": [user_msg]}, stream_mode=\"values\"):\n",
    "            msg = step[\"messages\"][-1]\n",
    "            msg.pretty_print()\n",
    "            # Capture only if it's an assistant message\n",
    "            if isinstance(msg, AIMessage):\n",
    "                ai_content = msg.content\n",
    "        \n",
    "        \n",
    "        try :\n",
    "            # Parse the final JSON into Pydantic model\n",
    "            article: ArticleDraft = parser.parse(ai_content)\n",
    "            return article.model_dump()\n",
    "        except ValidationError as e:\n",
    "            print(f\"[Attempt {attempt}] Parsing failed:\", e)\n",
    "            # Optionally modify the prompt to highlight the error:\n",
    "            prompt += \"\\n\\nNote: Your previous output did not match the required JSON schema. Please fix it exactly.\"\n",
    "            continue\n",
    "\n",
    "    # If all attempts fail, raise or return empty/default\n",
    "    raise RuntimeError(f\"Failed to get valid ArticleDraft JSON after {max_retries} attempts.\")\n"
   ]
  },
  {
   "cell_type": "code",
   "execution_count": null,
   "id": "c9e71c9c",
   "metadata": {},
   "outputs": [
    {
     "name": "stdout",
     "output_type": "stream",
     "text": [
      "================================\u001b[1m Human Message \u001b[0m=================================\n",
      "\n",
      "Classify this topic : Impact of Dumbledore in Harry's life ?\n",
      "==================================\u001b[1m Ai Message \u001b[0m==================================\n",
      "\n",
      "{\"classification\": \"generic\"}\n"
     ]
    },
    {
     "data": {
      "text/plain": [
       "{'classification': 'generic'}"
      ]
     },
     "metadata": {},
     "output_type": "display_data"
    }
   ],
   "source": [
    "res = classify_node({\"topic\": \"Impact of Dumbledore in Harry's life ?\"})\n",
    "res"
   ]
  },
  {
   "cell_type": "code",
   "execution_count": null,
   "id": "563a040c",
   "metadata": {},
   "outputs": [
    {
     "name": "stdout",
     "output_type": "stream",
     "text": [
      "================================\u001b[1m Human Message \u001b[0m=================================\n",
      "\n",
      "Classify this topic : Change last node decision in the tree?\n",
      "==================================\u001b[1m Ai Message \u001b[0m==================================\n",
      "\n",
      "{\"classification\": \"fda\"}\n"
     ]
    },
    {
     "data": {
      "text/plain": [
       "{'classification': 'fda'}"
      ]
     },
     "metadata": {},
     "output_type": "display_data"
    }
   ],
   "source": [
    "res = classify_node({\"topic\": \"Change last node decision in the tree?\"})\n",
    "res"
   ]
  },
  {
   "cell_type": "code",
   "execution_count": null,
   "id": "66ee0ba2",
   "metadata": {},
   "outputs": [
    {
     "name": "stdout",
     "output_type": "stream",
     "text": [
      "================================\u001b[1m Human Message \u001b[0m=================================\n",
      "\n",
      "Classify this topic : Do not deviate from the actual path just change last node decison and tell risk\n",
      "==================================\u001b[1m Ai Message \u001b[0m==================================\n",
      "\n",
      "{\"classification\": \"fda\"}\n"
     ]
    }
   ],
   "source": [
    "res = classify_node({\"topic\": \"Do not deviate from the actual path just change last node decison and tell risk\"})\n"
   ]
  },
  {
   "cell_type": "code",
   "execution_count": null,
   "id": "9145a1e2",
   "metadata": {},
   "outputs": [],
   "source": []
  }
 ],
 "metadata": {
  "language_info": {
   "name": "python"
  }
 },
 "nbformat": 4,
 "nbformat_minor": 5
}
